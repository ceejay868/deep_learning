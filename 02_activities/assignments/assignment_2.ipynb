{
  "cells": [
    {
      "cell_type": "markdown",
      "id": "7c6788aef474ca12",
      "metadata": {
        "collapsed": false,
        "id": "7c6788aef474ca12"
      },
      "source": [
        "# Text Generation with Recurrent Neural Networks (RNNs)\n",
        "\n",
        "In this assignment, you'll build upon your understanding of RNNs and Keras to develop a word-level text generation model.  Your goal is to train a model that learns the stylistic nuances of a chosen corpus and generates new, original text segments that echo the source material's essence.\n",
        "\n",
        "**Datasets**\n",
        "\n",
        "We've provided several intriguing text corpora to get you started:\n",
        "\n",
        "*   Mark Twain\n",
        "*   Charles Dickens\n",
        "*   William Shakespeare\n",
        "\n",
        "**Feel free to explore!**  If you have a particular passion for another author, genre, or a specific text, you're encouraged to use your own dataset of raw text."
      ]
    },
    {
      "cell_type": "code",
      "execution_count": 1,
      "id": "2d0bfedcfe52aedc",
      "metadata": {
        "colab": {
          "base_uri": "https://localhost:8080/"
        },
        "id": "2d0bfedcfe52aedc",
        "outputId": "4bb45dfb-cfb3-446e-95d3-36f0d03455f4"
      },
      "outputs": [
        {
          "output_type": "stream",
          "name": "stdout",
          "text": [
            "Default GPU Device: /device:GPU:0\n"
          ]
        }
      ],
      "source": [
        "# Check if we have a GPU available\n",
        "import tensorflow as tf\n",
        "if tf.test.gpu_device_name():\n",
        "    print('Default GPU Device: {}'.format(tf.test.gpu_device_name()))\n",
        "else:\n",
        "    print(\"No GPU available. If you're on Colab, go to Runtime > Change runtime and select a GPU hardware accelerator.\")"
      ]
    },
    {
      "cell_type": "code",
      "source": [
        "def download_file(url, file_path):\n",
        "    import requests\n",
        "    r = requests.get(url)\n",
        "    with open(file_path, 'wb') as f:\n",
        "        f.write(r.content)\n",
        "\n",
        "def load_dataset(file_path, fraction=1.0):\n",
        "    with open(file_path, 'r', encoding='utf-8') as f:\n",
        "        raw_text = f.read()\n",
        "    return raw_text[:int(fraction * len(raw_text))]\n",
        "\n",
        "dataset = 'mark_twain.txt' # Other options are mark_twain.txt, charles_dickens.txt\n",
        "def download_file(url, file_path):\n",
        "    import requests\n",
        "    r = requests.get(url)\n",
        "    with open(file_path, 'wb') as f:\n",
        "        f.write(r.content)\n",
        "\n",
        "def load_dataset(file_path, fraction=1.0):\n",
        "    with open(file_path, 'r', encoding='utf-8') as f:\n",
        "        raw_text = f.read()\n",
        "    return raw_text[:int(fraction * len(raw_text))]\n",
        "\n",
        "dataset = 'mark_twain.txt' # Other options are mark_twain.txt, charles_dickens.txt\n",
        "\n",
        "download_file(url=f'https://raw.githubusercontent.com/UofT-DSI/deep_learning/refs/heads/main/02_activities/assignments/downloaded_books/{dataset}', file_path=dataset)\n",
        "\n",
        "# Load chosen dataset. NOTE: If Colab is running out of memory, change the `fraction` parameter to a value between 0 and 1 to load less data.\n",
        "text = load_dataset(dataset, fraction=0.1)"
      ],
      "metadata": {
        "id": "0JLYexNGbaim"
      },
      "id": "0JLYexNGbaim",
      "execution_count": 2,
      "outputs": []
    },
    {
      "cell_type": "markdown",
      "id": "dab51c764031e606",
      "metadata": {
        "collapsed": false,
        "id": "dab51c764031e606"
      },
      "source": [
        "# 1. Data Preparation (Complete or Incomplete)\n",
        "\n",
        "Before we can begin training an RNN model, we need to prepare the dataset. This involves cleaning the text, tokenizing words, and creating sequences the model can be trained on.\n",
        "\n",
        "## 1.1 Data Exploration\n",
        "\n",
        "Print the first 1000 characters of the dataset. Report the dataset's size and the number of unique characters it contains."
      ]
    },
    {
      "cell_type": "code",
      "execution_count": 3,
      "id": "BunkZmdkl0Wn",
      "metadata": {
        "colab": {
          "base_uri": "https://localhost:8080/"
        },
        "id": "BunkZmdkl0Wn",
        "outputId": "c6a5234a-81d4-4b92-e551-5dfef3081be5"
      },
      "outputs": [
        {
          "output_type": "stream",
          "name": "stdout",
          "text": [
            "\n",
            "Dataset Size: 12674770\n",
            "\n",
            "Number of unique characters: 2470\n",
            "Characters: ['\\x00', '\\x01', '\\x02', '\\x03', '\\x04', '\\x05', '\\x06', '\\x07', '\\x08', '\\t', '\\n', '\\x0b', '\\x0c', '\\x0e', '\\x0f', '\\x10', '\\x11', '\\x12', '\\x13', '\\x14', '\\x15', '\\x16', '\\x17', '\\x18', '\\x19', '\\x1a', '\\x1b', '\\x1c', '\\x1d', '\\x1e', '\\x1f', ' ', '!', '\"', '#', '$', '%', '&', \"'\", '(', ')', '*', '+', ',', '-', '.', '/', '0', '1', '2', '3', '4', '5', '6', '7', '8', '9', ':', ';', '<', '=', '>', '?', '@', 'A', 'B', 'C', 'D', 'E', 'F', 'G', 'H', 'I', 'J', 'K', 'L', 'M', 'N', 'O', 'P', 'Q', 'R', 'S', 'T', 'U', 'V', 'W', 'X', 'Y', 'Z', '[', '\\\\', ']', '^', '_', '`', 'a', 'b', 'c', 'd', 'e', 'f', 'g', 'h', 'i', 'j', 'k', 'l', 'm', 'n', 'o', 'p', 'q', 'r', 's', 't', 'u', 'v', 'w', 'x', 'y', 'z', '{', '|', '}', '~', '\\x7f', '\\x80', '\\x81', '\\x82', '\\x84', '\\x85', '\\x86', '\\x87', '\\x88', '\\x89', '\\x8b', '\\x8c', '\\x8d', '\\x8e', '\\x8f', '\\x90', '\\x91', '\\x92', '\\x93', '\\x95', '\\x96', '\\x97', '\\x98', '\\x99', '\\x9a', '\\x9b', '\\x9c', '\\x9d', '\\x9e', '\\x9f', '\\xa0', '¡', '¢', '£', '¤', '¥', '¦', '§', '¨', '©', 'ª', '«', '¬', '\\xad', '¯', '±', '²', '´', 'µ', '¶', '·', '¸', '¹', 'º', '»', '¼', '½', '¾', '¿', 'À', 'Á', 'Â', 'Ä', 'Å', 'Æ', 'Ç', 'È', 'É', 'Ê', 'Ë', 'Ì', 'Í', 'Î', 'Ð', 'Ñ', 'Ò', 'Ó', 'Õ', 'Ö', 'Ø', 'Ù', 'Û', 'Ü', 'Ý', 'Þ', 'ß', 'à', 'á', 'â', 'ã', 'ä', 'å', 'æ', 'ç', 'è', 'é', 'ê', 'ë', 'ì', 'í', 'î', 'ï', 'ð', 'ñ', 'ò', 'ô', 'ö', 'ø', 'ù', 'ú', 'û', 'ü', 'ý', 'þ', 'Ā', 'ā', 'Ă', 'ă', 'Ą', 'ą', 'Ć', 'ć', 'ĉ', 'Ċ', 'ċ', 'Č', 'č', 'Ď', 'ď', 'Đ', 'ē', 'Ĕ', 'ĕ', 'Ė', 'ė', 'Ę', 'ę', 'Ě', 'ě', 'Ĝ', 'ĝ', 'ğ', 'ġ', 'Ģ', 'ģ', 'Ĥ', 'ĥ', 'Ħ', 'ħ', 'Ĩ', 'ĩ', 'Ī', 'Ĭ', 'Į', 'į', 'İ', 'ı', 'Ĳ', 'ĳ', 'Ĵ', 'ĵ', 'Ķ', 'ķ', 'ĸ', 'Ĺ', 'Ļ', 'ļ', 'ľ', 'Ŀ', 'ŀ', 'Ł', 'ł', 'Ń', 'ń', 'Ņ', 'ņ', 'Ň', 'ň', 'ŉ', 'Ŋ', 'ŋ', 'Ō', 'ō', 'Ŏ', 'ŏ', 'Ő', 'ő', 'Œ', 'œ', 'Ŕ', 'ŕ', 'Ŗ', 'ŗ', 'Ś', 'ś', 'Ŝ', 'ŝ', 'Ş', 'ş', 'Š', 'Ţ', 'ţ', 'Ť', 'ť', 'Ŧ', 'ŧ', 'Ũ', 'ũ', 'Ū', 'ū', 'Ŭ', 'ŭ', 'Ů', 'ů', 'Ű', 'ű', 'Ų', 'ų', 'Ŵ', 'ŵ', 'Ŷ', 'ŷ', 'Ÿ', 'Ź', 'ź', 'Ż', 'ż', 'ž', 'ſ', 'ƀ', 'Ɓ', 'Ƃ', 'ƃ', 'Ƅ', 'ƅ', 'Ɔ', 'Ƈ', 'ƈ', 'Ɖ', 'Ɗ', 'Ƌ', 'ƌ', 'ƍ', 'Ǝ', 'Ɛ', 'Ƒ', 'ƒ', 'Ɠ', 'Ɣ', 'ƕ', 'Ɩ', 'Ɨ', 'Ƙ', 'ƙ', 'ƚ', 'ƛ', 'Ɯ', 'ƞ', 'Ɵ', 'Ơ', 'Ƣ', 'ƣ', 'Ƥ', 'ƥ', 'Ʀ', 'Ƨ', 'ƨ', 'Ʃ', 'ƫ', 'Ƭ', 'ƭ', 'Ʈ', 'Ư', 'ư', 'Ʊ', 'Ʋ', 'Ƴ', 'ƴ', 'Ƹ', 'ƹ', 'ƺ', 'ƻ', 'Ƽ', 'ƽ', 'ƾ', 'ƿ', 'ǀ', 'ǁ', 'ǂ', 'ǃ', 'Ǆ', 'ǅ', 'ǈ', 'ǉ', 'Ǌ', 'ǋ', 'ǌ', 'Ǎ', 'ǎ', 'Ǐ', 'ǐ', 'Ǒ', 'ǒ', 'Ǔ', 'ǔ', 'ǖ', 'Ǘ', 'ǘ', 'Ǚ', 'ǚ', 'Ǜ', 'ǜ', 'ǝ', 'Ǟ', 'ǟ', 'ǡ', 'Ǣ', 'ǣ', 'Ǥ', 'ǥ', 'Ǧ', 'ǧ', 'Ǩ', 'ǩ', 'Ǫ', 'ǫ', 'Ǭ', 'ǭ', 'Ǯ', 'ǯ', 'ǰ', 'Ǳ', 'ǲ', 'ǳ', 'Ǵ', 'ǵ', 'Ƿ', 'Ǹ', 'ǹ', 'Ǻ', 'ǻ', 'Ǽ', 'Ǿ', 'ǿ', 'Ȁ', 'ȁ', 'Ȃ', 'ȅ', 'ȇ', 'Ȉ', 'ȉ', 'Ȋ', 'ȋ', 'Ȍ', 'ȍ', 'Ȏ', 'Ȑ', 'ȑ', 'Ȓ', 'ȓ', 'ȕ', 'Ȗ', 'ȗ', 'Ș', 'ș', 'Ț', 'ț', 'Ȝ', 'ȝ', 'Ȟ', 'Ƞ', 'ȡ', 'Ȣ', 'ȣ', 'Ȥ', 'ȥ', 'Ȧ', 'ȧ', 'Ȩ', 'ȩ', 'ȫ', 'Ȭ', 'ȭ', 'Ȯ', 'ȯ', 'ȱ', 'Ȳ', 'ȴ', 'ȵ', 'ȶ', 'ȷ', 'ȸ', 'ȹ', 'Ⱥ', 'Ȼ', 'Ⱦ', 'ɀ', 'Ɂ', 'ɂ', 'Ʉ', 'Ʌ', 'Ɇ', 'ɇ', 'Ɉ', 'Ɋ', 'ɋ', 'Ɍ', 'ɍ', 'Ɏ', 'ɐ', 'ɑ', 'ɒ', 'ɓ', 'ɔ', 'ɕ', 'ɗ', 'ɘ', 'ə', 'ɚ', 'ɜ', 'ɝ', 'ɞ', 'ɟ', 'ɠ', 'ɡ', 'ɢ', 'ɣ', 'ɤ', 'ɥ', 'ɦ', 'ɧ', 'ɩ', 'ɪ', 'ɫ', 'ɬ', 'ɭ', 'ɮ', 'ɰ', 'ɱ', 'ɲ', 'ɳ', 'ɴ', 'ɵ', 'ɶ', 'ɸ', 'ɹ', 'ɻ', 'ɽ', 'ɾ', 'ɿ', 'ʀ', 'ʁ', 'ʂ', 'ʃ', 'ʄ', 'ʅ', 'ʆ', 'ʇ', 'ʈ', 'ʉ', 'ʋ', 'ʌ', 'ʍ', 'ʎ', 'ʐ', 'ʑ', 'ʒ', 'ʓ', 'ʔ', 'ʕ', 'ʖ', 'ʗ', 'ʘ', 'ʙ', 'ʚ', 'ʛ', 'ʜ', 'ʝ', 'ʞ', 'ʟ', 'ʠ', 'ʡ', 'ʢ', 'ʤ', 'ʥ', 'ʦ', 'ʧ', 'ʨ', 'ʩ', 'ʪ', 'ʫ', 'ʬ', 'ʭ', 'ʮ', 'ʯ', 'ʰ', 'ʱ', 'ʲ', 'ʳ', 'ʴ', 'ʵ', 'ʶ', 'ʷ', 'ʸ', 'ʹ', 'ʺ', 'ʻ', 'ʼ', 'ʽ', 'ʾ', 'ʿ', 'ˀ', 'ˁ', '˂', '˃', '˄', '˅', 'ˆ', 'ˇ', 'ˈ', 'ˉ', 'ˊ', 'ˋ', 'ˌ', 'ˍ', 'ˎ', 'ˏ', 'ː', 'ˑ', '˒', '˓', '˔', '˕', '˖', '˗', '˘', '˙', '˚', '˛', '˜', '˝', '˞', '˟', 'ˠ', 'ˡ', 'ˢ', 'ˣ', 'ˤ', '˥', '˦', '˧', '˨', '˩', '˪', '˫', 'ˬ', '˭', 'ˮ', '˯', '˰', '˱', '˲', '˳', '˵', '˶', '˷', '˸', '˹', '˺', '˻', '˼', '˽', '˾', '˿', '́', '̂', '̃', '̄', '̅', '̆', '̇', '̈', '̉', '̊', '̋', '̌', '̍', '̎', '̏', '̐', '̑', '̒', '̓', '̔', '̕', '̖', '̗', '̘', '̙', '̚', '̛', '̝', '̞', '̠', '̡', '̢', '̣', '̤', '̥', '̦', '̨', '̩', '̪', '̫', '̬', '̭', '̮', '̯', '̰', '̱', '̲', '̳', '̴', '̵', '̷', '̸', '̹', '̺', '̻', '̼', '̽', '̾', '̿', '̀', '́', '͂', '̓', '̈́', 'ͅ', '͆', '͇', '͈', '͉', '͊', '͋', '͌', '͎', '͏', '͐', '͑', '͒', '͓', '͕', '͖', '͗', '͘', '͙', '͚', '͛', '͜', '͝', '͞', '͟', '͠', '͡', '͢', 'ͣ', 'ͤ', 'ͥ', 'ͦ', 'ͧ', 'ͨ', 'ͩ', 'ͪ', 'ͫ', 'ͬ', 'ͭ', 'ͮ', 'ͯ', 'ͱ', 'Ͳ', 'ͳ', 'ʹ', '͵', 'Ͷ', 'ͷ', '\\u0378', '\\u0379', 'ͺ', 'ͻ', 'ͼ', 'ͽ', ';', 'Ϳ', '\\u0380', '\\u0381', '\\u0382', '\\u0383', '΄', '΅', '·', 'Έ', 'Ή', 'Ί', '\\u038b', 'Ό', '\\u038d', 'Ύ', 'ΐ', 'Γ', 'Δ', 'Ε', 'Ζ', 'Η', 'Θ', 'Ι', 'Λ', 'Μ', 'Ν', 'Ξ', 'Ο', 'Π', 'Ρ', '\\u03a2', 'Σ', 'Τ', 'Υ', 'Φ', 'Χ', 'Ψ', 'Ω', 'Ϊ', 'Ϋ', 'ά', 'έ', 'ή', 'ί', 'ΰ', 'α', 'β', 'γ', 'δ', 'ε', 'ζ', 'η', 'θ', 'ι', 'κ', 'λ', 'μ', 'ν', 'ξ', 'π', 'ς', 'σ', 'τ', 'υ', 'φ', 'χ', 'ψ', 'ω', 'ϊ', 'ϋ', 'ό', 'ύ', 'ώ', 'Ϗ', 'ϐ', 'ϑ', 'ϒ', 'ϓ', 'ϔ', 'ϕ', 'ϗ', 'Ϙ', 'ϙ', 'Ϛ', 'ϛ', 'Ϝ', 'ϝ', 'Ϟ', 'ϟ', 'Ϡ', 'ϡ', 'Ϣ', 'ϣ', 'Ϥ', 'Ϧ', 'ϧ', 'Ϩ', 'ϩ', 'ϫ', 'Ϭ', 'ϭ', 'Ϯ', 'ϯ', 'ϱ', 'ϲ', 'ϳ', 'ϴ', 'ϵ', '϶', 'ϸ', 'Ϲ', 'Ϻ', 'ϻ', 'ϼ', 'Ͻ', 'Ͼ', 'Ͽ', 'Ѐ', 'Ё', 'Ѓ', 'Є', 'Ѕ', 'І', 'Ї', 'Ј', 'Љ', 'Њ', 'Ћ', 'Ќ', 'Ѝ', 'Ў', 'Џ', 'Б', 'В', 'Г', 'Д', 'Ж', 'З', 'И', 'Й', 'К', 'Л', 'М', 'Н', 'О', 'П', 'Р', 'С', 'Т', 'У', 'Ф', 'Х', 'Ц', 'Ч', 'Ш', 'Щ', 'Ъ', 'Ы', 'Ь', 'Э', 'Ю', 'Я', 'а', 'б', 'г', 'д', 'е', 'ж', 'з', 'и', 'й', 'к', 'л', 'м', 'н', 'о', 'п', 'р', 'с', 'т', 'у', 'ф', 'х', 'ц', 'ч', 'ш', 'щ', 'ъ', 'ы', 'э', 'ю', 'ѐ', 'ё', 'ѓ', 'є', 'ѕ', 'і', 'ї', 'ј', 'љ', 'њ', 'ћ', 'ќ', 'ѝ', 'ў', 'џ', 'Ѡ', 'ѡ', 'Ѣ', 'ѣ', 'Ѥ', 'ѥ', 'Ѧ', 'Ѩ', 'ѩ', 'Ѫ', 'ѫ', 'Ѭ', 'ѭ', 'Ѯ', 'Ѱ', 'ѱ', 'Ѳ', 'ѳ', 'Ѵ', 'ѵ', 'Ѷ', 'ѷ', 'Ѹ', 'ѹ', 'Ѻ', 'ѻ', 'Ѽ', 'ѽ', 'Ѿ', 'ѿ', 'Ҁ', 'ҁ', '҂', '҃', '҅', '҆', '҇', '҈', '҉', 'Ҋ', 'ҋ', 'Ҍ', 'ҍ', 'Ҏ', 'ҏ', 'Ґ', 'ґ', 'Ғ', 'ғ', 'Ҕ', 'ҕ', 'Җ', 'җ', 'Ҙ', 'ҙ', 'Қ', 'қ', 'Ҝ', 'ҝ', 'Ҟ', 'ҟ', 'Ҡ', 'ҡ', 'Ң', 'ң', 'Ҥ', 'ҥ', 'Ҧ', 'ҧ', 'Ҩ', 'ҩ', 'Ҫ', 'ҫ', 'Ҭ', 'ҭ', 'ү', 'Ұ', 'Ҳ', 'ҳ', 'ҵ', 'Ҷ', 'ҷ', 'Ҹ', 'ҹ', 'Һ', 'һ', 'Ҽ', 'ҽ', 'Ҿ', 'Ӏ', 'Ӂ', 'ӂ', 'Ӄ', 'ӄ', 'Ӆ', 'ӆ', 'Ӈ', 'ӈ', 'Ӊ', 'ӊ', 'Ӌ', 'ӌ', 'Ӎ', 'ӎ', 'ӏ', 'Ӑ', 'ӑ', 'Ӓ', 'ӓ', 'Ӕ', 'ӕ', 'Ӗ', 'ӗ', 'Ә', 'ә', 'ӛ', 'Ӝ', 'ӝ', 'Ӟ', 'ӟ', 'ӡ', 'Ӣ', 'ӣ', 'Ӥ', 'ӥ', 'Ӧ', 'ӧ', 'Ө', 'ө', 'Ӫ', 'ӫ', 'Ӭ', 'ӭ', 'Ӯ', 'ӯ', 'Ӱ', 'ӱ', 'Ӳ', 'ӳ', 'Ӵ', 'ӵ', 'Ӷ', 'ӷ', 'Ӹ', 'ӹ', 'Ӻ', 'ӻ', 'Ӽ', 'ӽ', 'Ӿ', 'ӿ', 'ԁ', 'Ԃ', 'ԃ', 'Ԅ', 'ԅ', 'Ԇ', 'ԇ', 'ԉ', 'Ԋ', 'ԋ', 'Ԍ', 'ԍ', 'Ԏ', 'ԏ', 'Ԑ', 'ԑ', 'Ԓ', 'ԓ', 'Ԕ', 'ԕ', 'Ԗ', 'ԗ', 'Ԙ', 'ԙ', 'Ԛ', 'ԛ', 'Ԝ', 'Ԟ', 'ԟ', 'Ԡ', 'ԡ', 'Ԣ', 'ԣ', 'Ԥ', 'ԥ', 'Ԧ', 'ԧ', 'Ԩ', 'ԩ', 'Ԫ', 'ԫ', 'Ԭ', 'ԭ', 'Ԯ', 'ԯ', '\\u0530', 'Ա', 'Բ', 'Դ', 'Ե', 'Զ', 'Է', 'Ը', 'Թ', 'Ժ', 'Ի', 'Խ', 'Կ', 'Հ', 'Ձ', 'Ղ', 'Ճ', 'Մ', 'Յ', 'Ն', 'Ո', 'Չ', 'Պ', 'Ջ', 'Ռ', 'Ս', 'Վ', 'Ր', 'Ց', 'Ւ', 'Փ', 'Ք', 'Օ', 'Ֆ', '\\u0557', '\\u0558', 'ՙ', '՚', '՛', '՜', '՝', '՞', '՟', 'ՠ', 'բ', 'գ', 'դ', 'ե', 'զ', 'է', 'ը', 'թ', 'ժ', 'ի', 'լ', 'խ', 'ծ', 'կ', 'հ', 'ձ', 'ճ', 'մ', 'յ', 'ն', 'շ', 'ո', 'չ', 'պ', 'ջ', 'ռ', 'ս', 'վ', 'տ', 'ր', 'ց', 'փ', 'ք', 'օ', 'ֆ', 'և', 'ֈ', '։', '֊', '\\u058b', '\\u058c', '֍', '֎', '֏', '\\u0590', '֑', '֒', '֓', '֕', '֖', '֗', '֘', '֙', '֛', '֜', '֝', '֞', '֟', '֠', '֢', '֣', '֤', '֥', '֦', '֪', '֫', '֬', '֭', '֮', 'ְ', 'ֱ', 'ֲ', 'ֳ', 'ִ', 'ֶ', 'ַ', 'ָ', 'ֹ', 'ֺ', 'ֻ', 'ּ', 'ֽ', '־', 'ֿ', 'ׂ', '׃', 'ׄ', '׆', 'ׇ', '\\u05c8', '\\u05c9', '\\u05ca', '\\u05cb', '\\u05cc', '\\u05cd', '\\u05ce', '\\u05cf', 'א', 'ב', 'ג', 'ד', 'ה', 'ו', 'ז', 'ח', 'ט', 'י', 'ך', 'כ', 'ל', 'ם', 'מ', 'ן', 'נ', 'ס', 'ע', 'ף', 'פ', 'ץ', 'צ', 'ק', 'ר', 'ת', '\\u05eb', '\\u05ec', '\\u05ee', 'ׯ', 'װ', 'ױ', 'ײ', '״', '\\u05f6', '\\u05f7', '\\u05f8', '\\u05f9', '\\u05fa', '\\u05ff', '\\u0600', '\\u0601', '\\u0602', '\\u0603', '\\u0604', '\\u0605', '؆', '؇', '؈', '؉', '؊', '؋', '،', '؍', '؏', 'ؐ', 'ؑ', 'ؒ', 'ؓ', 'ؔ', 'ؗ', 'ؘ', 'ؚ', '؛', '\\u061c', '؝', '؞', '؟', 'ؠ', 'ء', 'آ', 'أ', 'ؤ', 'ئ', 'ا', 'ب', 'ة', 'ت', 'ث', 'ج', 'ح', 'خ', 'د', 'ذ', 'ر', 'س', 'ص', 'ض', 'ط', 'ظ', 'غ', 'ؼ', 'ؽ', 'ؾ', 'ؿ', 'ـ', 'ف', 'ق', 'ك', 'ل', 'م', 'ن', 'ه', 'و', 'ى', 'ي', 'ً', 'ٌ', 'ٍ', 'ُ', 'ّ', 'ْ', 'ٓ', 'ٔ', 'ٕ', 'ٖ', 'ٗ', '٘', 'ٙ', 'ٚ', 'ٛ', 'ٜ', 'ٝ', 'ٞ', 'ٟ', '٠', '١', '٢', '٣', '٤', '٦', '٧', '٨', '٩', '٪', '٫', '٬', '٭', 'ٮ', 'ٯ', 'ٱ', 'ٲ', 'ٳ', 'ٴ', 'ٵ', 'ٶ', 'ٷ', 'ٸ', 'ٹ', 'ٺ', 'ٻ', 'ټ', 'ٽ', 'ڀ', 'ځ', 'ڂ', 'ڃ', 'ڄ', 'چ', 'ڇ', 'ڈ', 'ډ', 'ڊ', 'ڋ', 'ڌ', 'ڍ', 'ڏ', 'ڐ', 'ڑ', 'ڒ', 'ړ', 'ڔ', 'ڕ', 'ڗ', 'ژ', 'ڙ', 'ښ', 'ڛ', 'ڜ', 'ڝ', 'ڞ', 'ڟ', 'ڠ', 'ڡ', 'ڢ', 'ڣ', 'ڤ', 'ڦ', 'ڧ', 'ڨ', 'ک', 'ڪ', 'ګ', 'ڬ', 'ڭ', 'ڮ', 'گ', 'ڰ', 'ڱ', 'ڲ', 'ڳ', 'ڴ', 'ڵ', 'ڶ', 'ڷ', 'ڸ', 'ڹ', 'ڻ', 'ڼ', 'ڽ', 'ھ', 'ڿ', 'ۀ', 'ہ', 'ۂ', 'ۃ', 'ۄ', 'ۅ', 'ۆ', 'ۇ', 'ۈ', 'ۉ', 'ۊ', 'ۋ', 'ی', 'ۍ', 'ێ', 'ۏ', 'ې', 'ۑ', 'ے', 'ۓ', '۔', 'ە', 'ۖ', 'ۗ', 'ۙ', 'ۚ', 'ۛ', 'ۜ', '\\u06dd', '۞', '۟', '۠', 'ۡ', 'ۢ', 'ۣ', 'ۤ', 'ۦ', 'ۧ', 'ۨ', '۩', '۪', '۬', 'ۭ', 'ۯ', '۰', '۱', '۲', '۳', '۴', '۵', '۶', '۷', '۹', 'ۺ', 'ۻ', 'ۼ', '۾', 'ۿ', '܀', '܁', '܂', '܃', '܄', '܅', '܆', '܇', '܈', '܉', '܋', '܌', '܍', '\\u070e', '\\u070f', 'ܐ', 'ܑ', 'ܓ', 'ܔ', 'ܕ', 'ܖ', 'ܗ', 'ܘ', 'ܙ', 'ܚ', 'ܛ', 'ܜ', 'ܝ', 'ܞ', 'ܟ', 'ܠ', 'ܡ', 'ܢ', 'ܣ', 'ܤ', 'ܥ', 'ܦ', 'ܧ', 'ܨ', 'ܩ', 'ܪ', 'ܫ', 'ܬ', 'ܭ', 'ܮ', 'ܯ', 'ܰ', 'ܱ', 'ܲ', 'ܳ', 'ܴ', 'ܵ', 'ܶ', 'ܷ', 'ܸ', 'ܹ', 'ܺ', 'ܼ', 'ܾ', 'ܿ', '݀', '݁', '݂', '݃', '݄', '݅', '݆', '݈', '݉', '݊', '\\u074b', '\\u074c', 'ݍ', 'ݎ', 'ݏ', 'ݐ', 'ݑ', 'ݒ', 'ݓ', 'ݔ', 'ݕ', 'ݗ', 'ݘ', 'ݙ', 'ݚ', 'ݛ', 'ݜ', 'ݝ', 'ݞ', 'ݟ', 'ݠ', 'ݡ', 'ݢ', 'ݣ', 'ݤ', 'ݥ', 'ݦ', 'ݧ', 'ݨ', 'ݩ', 'ݪ', 'ݫ', 'ݬ', 'ݭ', 'ݮ', 'ݯ', 'ݰ', 'ݱ', 'ݲ', 'ݳ', 'ݴ', 'ݵ', 'ݶ', 'ݷ', 'ݹ', 'ݺ', 'ݻ', 'ݾ', 'ݿ', 'ހ', 'ށ', 'ނ', 'ރ', 'ބ', 'ޅ', 'ކ', 'އ', 'މ', 'ފ', 'ދ', 'ތ', 'ލ', 'ގ', 'ޏ', 'ސ', 'ޑ', 'ޒ', 'ޓ', 'ޕ', 'ޖ', 'ޗ', 'ޘ', 'ޙ', 'ޚ', 'ޛ', 'ޜ', 'ޝ', 'ޞ', 'ޟ', 'ޠ', 'ޡ', 'ޢ', 'ޣ', 'ޤ', 'ޥ', 'ަ', 'ާ', 'ި', 'ީ', 'ު', 'ޫ', 'ެ', 'ޭ', 'ޮ', 'ޯ', 'ޱ', '\\u07b2', '\\u07b3', '\\u07b4', '\\u07b5', '\\u07b6', '\\u07b7', '\\u07b8', '\\u07b9', '\\u07ba', '\\u07bb', '\\u07bc', '\\u07bd', '\\u07be', '\\u07bf', '߀', '߂', '߃', '߄', '߆', '߇', '߈', 'ߊ', 'ߋ', 'ߌ', 'ߍ', 'ߎ', 'ߏ', 'ߐ', 'ߑ', 'ߒ', 'ߓ', 'ߔ', 'ߕ', 'ߖ', 'ߗ', 'ߘ', 'ߙ', 'ߛ', 'ߜ', 'ߝ', 'ߞ', 'ߟ', 'ߠ', 'ߡ', 'ߢ', 'ߣ', 'ߤ', 'ߥ', 'ߦ', 'ߧ', 'ߨ', 'ߩ', 'ߪ', '߫', '߬', '߭', '߮', '߯', '߰', '߱', '߲', '߳', 'ߴ', 'ߵ', '߶', '߷', '߸', '\\u07fb', '\\u07fc', '߽', '߾', '߿', 'ࡈ', 'ࢀ', 'ড', 'ি', '\\u0bc9', '\\u0bff', 'త', 'ಜ', 'ണ', 'ല', '൝', 'ൺ', '\\u0ee3', '༫', 'ཌ', '\\u0fe4', 'ၓ', 'ႀ', 'Ⴞ', 'Ⴧ', 'მ', 'ᆪ', 'ᇑ', 'ኘ', 'ጇ', 'ᑯ', 'ᒰ', 'ᓒ', 'ᗶ', 'ᘪ', 'ᙪ', 'ᙫ', 'ᚘ', 'ᛗ', 'ᛲ', 'ថ', 'ᠴ', 'ᣰ', '\\u197f', 'ᨼ', '\\u1af8', '᭬', 'ᮝ', 'ᯟ', 'ᰕ', '᳜', 'ᴓ', 'ᵢ', 'ᶎ', 'ᷯ', 'Ḫ', 'Ṗ', 'ừ', 'Ά', '–', '—', '‘', '’', '“', '”', '‷', '⁀', '⁂', '\\u2066', 'ⅇ', '↱', '⊾', '⋇', '⋕', '⋩', '⌱', '⌲', '⎇', '⎌', '⏴', '◪', '⚬', '⚵', '✻', '❖', '❦', '❹', '⟤', '⠽', '⤧', '⥪', '⦦', '⧳', '⫞', '⫧', '⭘', 'ⳅ', '⳽', '⸃', '⸼', '⻲', '⽇', '⾴', '\\u2fe9', 'い', '\\u3097', 'ナ', '㉫', '㓏', '㘕', '㙤', '㙥', '㝑', '㞮', '㠣', '㡄', '㤔', '㥢', '㦪', '㨹', '㪜', '㬄', '㬣', '㬫', '㬾', '㯳', '㴐', '㵃', '㶣', '㶾', '㽻', '䂈', '䆫', '䉍', '䌣', '䎊', '䎕', '䎠', '䎱', '䏿', '䑬', '䕻', '䗆', '䗵', '䠈', '䡧', '䣪', '䤧', '䤵', '䨁', '䨌', '䫌', '䫭', '䬢', '䱚', '䲇', '䷊', '䷗', '丩', '丳', '伂', '侾', '倏', '偋', '偫', '偮', '偲', '偿', '兣', '冒', '労', '勶', '匙', '匚', '厯', '吴', '咕', '咜', '啝', '囍', '圉', '墧', '奾', '妪', '姧', '婢', '媨', '孉', '宒', '宽', '岚', '崀', '崫', '嵍', '嶳', '序', '廷', '弗', '忬', '憆', '挐', '挹', '搙', '攁', '敉', '斗', '未', '枤', '梼', '棤', '棯', '榳', '槏', '槕', '樔', '橫', '橸', '櫁', '殊', '氅', '氋', '洙', '洺', '涟', '深', '淸', '湅', '滐', '漟', '澞', '灦', '烲', '烼', '煌', '燷', '牜', '狔', '獁', '獂', '率', '玗', '珟', '琛', '瑼', '瓋', '疶', '瘘', '癎', '皥', '盎', '瞘', '禪', '穦', '窇', '窊', '窯', '筇', '篆', '篩', '簨', '粘', '粜', '粽', '糂', '糷', '紇', '縯', '繭', '纘', '纩', '绶', '综', '耒', '耝', '肠', '舄', '艚', '苶', '莊', '萬', '蔌', '蔴', '薬', '藣', '虋', '蚭', '蜿', '螓', '螻', '襊', '觖', '觬', '訁', '訛', '説', '謷', '豱', '貤', '賥', '賹', '踋', '軥', '軺', '輹', '逸', '遚', '鄔', '酟', '鈫', '鉝', '鉠', '錘', '鍅', '鎀', '鏎', '鏿', '鐼', '鑧', '鑴', '阗', '阶', '陨', '面', '韌', '頉', '頟', '頪', '颧', '飒', '饰', '馭', '騅', '騣', '驙', '髈', '魶', '鮏', '鲜', '鴗', '鴛', '鶾', '鹔', '鹜', '黕', '黟', '鼅', '齋', '鿐', 'ꀫ', 'ꁧ', 'ꉢ', 'ꉦ', 'ꉳ', 'ꉼ', 'ꋑ', 'ꋔ', 'ꎮ', 'ꏈ', 'ꏓ', 'ꐴ', 'ꘉ', 'Ꙣ', 'ꚳ', 'ꛮ', 'Ꞻ', 'ꡜ', 'ꢶ', '꣱', 'ꤊ', 'ꤽ', '\\uaa4f', '\\uaad2', '갖', '갮', '걽', '겈', '궟', '궬', '깆', '꺥', '꺻', '꽄', '꾏', '뀈', '녁', '놓', '눗', '뉖', '닰', '닷', '덂', '돈', '땆', '땣', '떹', '뙗', '뜪', '뢐', '뢟', '뤀', '몓', '묐', '뭺', '뱯', '뱶', '볹', '봊', '봟', '붶', '뷯', '뺡', '뺹', '뻮', '뼻', '뽻', '뿁', '뿼', '쀣', '쀾', '샭', '셋', '셯', '솎', '쇽', '쉠', '썀', '쏪', '쓧', '씇', '씩', '욝', '욭', '윫', '젊', '졃', '존', '좒', '죉', '죶', '질', '짼', '쨢', '쩧', '챘', '챛', '촔', '춯', '춴', '췀', '췪', '캿', '컪', '켒', '코', '쾇', '퀄', '큁', '탠', '턅', '텗', '톗', '퇹', '튖', '팒', '팝', '팵', '퍒', '퍭', '폼', '퓉', '햙', '혋', '혧', '횾', '휙', '\\ud7fe', '\\ue007', '\\ue01b', '\\ue04b', '\\ue0c2', '\\ue31d', '\\ue3a8', '\\ue3cd', '\\ue400', '\\ue57b', '\\ue5e8', '\\ue664', '\\ue669', '\\ue66f', '\\ue6b3', '\\ue6c1', '\\ue72d', '\\ue801', '\\ue80c', '\\ue858', '\\ue8b8', '\\ue8ba', '\\ue92c', '\\ue9c3', '\\ueb37', '\\uec10', '\\uec52', '\\uecba', '\\ued34', '\\ued77', '\\ued92', '\\uee77', '\\ueeee', '\\ueefe', '\\uf037', '\\uf125', '\\uf1e0', '\\uf1e7', '\\uf203', '\\uf20c', '\\uf2f6', '\\uf388', '\\uf394', '\\uf3b5', '\\uf473', '\\uf4e3', '\\uf4ff', '\\uf50a', '\\uf528', '\\uf5a5', '\\uf5fd', '\\uf60a', '\\uf6ae', '\\uf6e7', '\\uf743', '\\uf7bd', '\\uf80f', '\\uf83a', '\\uf871', '\\uf8d9', '\\uf8fd', '曆', '領', '戮', '溺', '懲', '益', '華', 'ﮣ', 'ﯞ', 'ﰶ', 'ﲛ', 'ﲟ', 'ﲯ', 'ﲳ', 'ﴶ', '﹏', '：', 'ｃ', 'ￇ', 'ￜ', '￡', '�', '𗨶', '\\U00018f5a', '\\U0001bdbb', '\\U0001ce1d', '\\U0001e344', '𫫲', '\\U0002f539', '\\U00033a48', '\\U00038ab1', '\\U00038cd4', '\\U0003bae3', '\\U00049c9d', '\\U0004e936', '\\U0004efbf', '\\U000501d1', '\\U0005f98f', '\\U0006a0e4', '\\U0006bbde', '\\U0006e119', '\\U00085ca9', '\\U0008b465', '\\U0009261b', '\\U000984d5', '\\U000a32f7', '\\U000a7be1', '\\U000acab1', '\\U000b04fd', '\\U000b1d30', '\\U000b2691', '\\U000b288b', '\\U000bf83e', '\\U000bfc3e', '\\U000c81e4', '\\U000d15ce', '\\U000d3c79', '\\U000d94b3', '\\U000e188b', '\\U000e4b46', '\\U000e7081', '\\U000e7327', '\\U000e96aa', '\\U000ee425', '\\U000f14af', '\\U000f9951', '\\U000ff6e9', '\\U00102263', '\\U00106878']\n",
            "First 1000 characters of text:\n",
            "\n",
            "The Project Gutenberg EBook of The Prince and The Pauper, Complete by\n",
            "Mark Twain (Samuel Clemens)\n",
            "\n",
            "This eBook is for the use of anyone anywhere at no cost and with almost\n",
            "no restrictions whatsoever. You may copy it, give it away or re-use\n",
            "it under the terms of the Project Gutenberg License included with this\n",
            "eBook or online at www.gutenberg.org\n",
            "\n",
            "Title: The Prince and The Pauper, Complete\n",
            "\n",
            "Author: Mark Twain (Samuel Clemens)\n",
            "\n",
            "Release Date: August 20, 2006 [EBook #1837]\n",
            "Last Updated: February 19, 2018\n",
            "\n",
            "Language: English\n",
            "\n",
            "Character set encoding: UTF-8\n",
            "\n",
            "*** START OF THIS PROJECT GUTENBERG EBOOK PRINCE AND THE PAUPER ***\n",
            "\n",
            "Produced by David Widger. The earliest PG edition was prepared by Les\n",
            "Bowler\n",
            "\n",
            "\n",
            "\n",
            "\n",
            "THE PRINCE AND THE PAUPER\n",
            "\n",
            "by Mark Twain\n",
            "\n",
            "The Great Seal\n",
            "\n",
            "I will set down a tale as it was told to me by one who had it of his\n",
            "father, which latter had it of HIS father, this last having in like\n",
            "manner had it of HIS father--and so on, back and still back, three\n",
            "hundred years and more, the fat\n"
          ]
        }
      ],
      "source": [
        "# Your code here\n",
        "text = load_dataset(\"mark_twain.txt\")\n",
        "print(\"\\nDataset Size:\", len(text))\n",
        "\n",
        "# Find number of unique characters\n",
        "unique_chars = sorted(set(text))\n",
        "print(\"\\nNumber of unique characters:\", len(unique_chars))\n",
        "print(\"Characters:\", unique_chars)\n",
        "\n",
        "# Print the first 1000 characters of the dataset\n",
        "print(f\"First 1000 characters of text:\\n{text[:1000]}\")"
      ]
    },
    {
      "cell_type": "markdown",
      "id": "3ae1639f5ecfe587",
      "metadata": {
        "collapsed": false,
        "id": "3ae1639f5ecfe587"
      },
      "source": [
        "## 1.2 Text Pre-Processing\n",
        "\n",
        "To prepare the dataset for training, we need to clean the text and create a numerical representation the model can interpret. Perform the following pre-processing steps:\n",
        "\n",
        "*   Convert the entire text to lowercase.\n",
        "*   Use the `Tokenizer` class from the `keras.preprocessing.text` module to tokenize the text. You should fit the tokenizer on the text and then convert the text to a sequence of numbers. You can use the `texts_to_sequences` method to do this.\n",
        "\n",
        "**Note**:\n",
        "* You'll need to specify an appropriate size for the vocabulary. The number of words in the list of most common words can serve as a guide - does it seem like a reasonable vocabulary size?\n",
        "* Some of the words will be excluded from the vocabulary, as they don't appear often enough. It's important to provide a value for `oov_token` when creating the Tokenizer instance, so that these words can be represented as \"unknown\"."
      ]
    },
    {
      "cell_type": "code",
      "execution_count": 4,
      "id": "4d0d30cd98ea453c",
      "metadata": {
        "id": "4d0d30cd98ea453c"
      },
      "outputs": [],
      "source": [
        "from tensorflow.keras.preprocessing.text import Tokenizer\n",
        "\n",
        "# Your code here\n",
        "VOCAB_SIZE = 2500\n",
        "OOV_TOKEN = \"<OOV>\"\n",
        "\n",
        "tokenizer = Tokenizer(num_words=VOCAB_SIZE, oov_token=OOV_TOKEN)\n",
        "text = load_dataset(\"mark_twain.txt\")\n",
        "\n",
        "# Fit the tokenizer on the text\n",
        "tokenizer.fit_on_texts([text])"
      ]
    },
    {
      "cell_type": "markdown",
      "id": "89d32bb9356f711",
      "metadata": {
        "collapsed": false,
        "id": "89d32bb9356f711"
      },
      "source": [
        "If everything worked, the following line should show you the first 10 words in the vocabulary:"
      ]
    },
    {
      "cell_type": "code",
      "execution_count": 5,
      "id": "6a7cd547a19feece",
      "metadata": {
        "colab": {
          "base_uri": "https://localhost:8080/"
        },
        "id": "6a7cd547a19feece",
        "outputId": "4fe7aed1-182c-4a01-dd27-e7e76cc00a22"
      },
      "outputs": [
        {
          "output_type": "stream",
          "name": "stdout",
          "text": [
            "[('<OOV>', 1), ('the', 2), ('and', 3), ('of', 4), ('to', 5), ('a', 6), ('in', 7), ('it', 8), ('i', 9), ('that', 10), ('was', 11), ('he', 12), ('is', 13), ('for', 14), ('you', 15), ('with', 16), ('his', 17), ('but', 18), ('not', 19), ('”', 20), ('had', 21), ('as', 22), ('this', 23), ('at', 24), ('be', 25), ('have', 26), ('on', 27), ('all', 28), ('by', 29), ('or', 30), ('they', 31), ('him', 32), ('we', 33), ('her', 34), ('my', 35), ('one', 36), ('me', 37), ('from', 38), ('she', 39), ('there', 40), ('so', 41), ('would', 42), ('no', 43), ('were', 44), ('are', 45), ('which', 46), ('if', 47), ('will', 48), ('when', 49), ('out', 50)]\n"
          ]
        }
      ],
      "source": [
        "try:\n",
        "    print(list(tokenizer.word_index.items())[:50])\n",
        "except AttributeError:\n",
        "    print(\"Tokenizer has not been initialized. Possible issue: Complete the relevant section of the assignment to initialize it.\"\n",
        ")\n"
      ]
    },
    {
      "cell_type": "markdown",
      "id": "da504e4bc6617613",
      "metadata": {
        "collapsed": false,
        "id": "da504e4bc6617613"
      },
      "source": [
        "## 1.3 Sequence Generation\n",
        "\n",
        "Now that the text has been tokenized, we need to create sequences the model can be trained on. There are two parts to this:\n",
        "\n",
        "*   Use the `texts_to_sequences` method from the tokenizer to convert the text to a list of sequences of numbers.\n",
        "*   Generate the training sequences. Each training sequence should contain `SEQ_LENGTH` token IDs from the text. The target token for each sequence should be the word that follows the sequence in the text."
      ]
    },
    {
      "cell_type": "code",
      "execution_count": 6,
      "id": "4ff5fc8d0273709c",
      "metadata": {
        "id": "4ff5fc8d0273709c",
        "colab": {
          "base_uri": "https://localhost:8080/"
        },
        "outputId": "e4e55b22-b5f5-4ab6-a877-6c444e473ee7"
      },
      "outputs": [
        {
          "output_type": "stream",
          "name": "stdout",
          "text": [
            "Sample Sequence: [  2  72  69 510   4   2 456   3]\n",
            "Target Word: 2\n"
          ]
        }
      ],
      "source": [
        "import numpy as np\n",
        "\n",
        "SEQ_LENGTH = 8\n",
        "\n",
        "# Convert the text to a list of sequences of numbers\n",
        "sequences = tokenizer.texts_to_sequences([text])[0]\n",
        "\n",
        "# Generate the training sequences\n",
        "x = []\n",
        "y = []\n",
        "\n",
        "for i in range(len(sequences) - SEQ_LENGTH):\n",
        "    x.append(sequences[i:i+SEQ_LENGTH])\n",
        "    y.append(sequences[i+SEQ_LENGTH])\n",
        "\n",
        "x = np.array(x)\n",
        "y = np.array(y)\n",
        "\n",
        "print(f'Sample Sequence: {x[0]}')\n",
        "print(f'Target Word: {y[0]}')"
      ]
    },
    {
      "cell_type": "markdown",
      "id": "3b6bdc0deb930df1",
      "metadata": {
        "collapsed": false,
        "id": "3b6bdc0deb930df1"
      },
      "source": [
        "Assuming your sequences are stored in `X` and the corresponding targets in `y`, the following line should print the first training sequence and its target:"
      ]
    },
    {
      "cell_type": "code",
      "execution_count": 7,
      "id": "a495cab04001ce92",
      "metadata": {
        "colab": {
          "base_uri": "https://localhost:8080/"
        },
        "id": "a495cab04001ce92",
        "outputId": "2c235903-29ef-4a5b-a01e-64ba7fe31b31"
      },
      "outputs": [
        {
          "output_type": "stream",
          "name": "stdout",
          "text": [
            "Sequence: [  2  72  69 510   4   2 456   3]\n",
            "Target: 2\n",
            "Translated back to words: ['the', 'project', 'gutenberg', 'ebook', 'of', 'the', 'prince', 'and'] -> the\n"
          ]
        }
      ],
      "source": [
        "if len(x) > 0 and len(y) > 0:\n",
        "    print(f'Sequence: {x[0]}\\nTarget: {y[0]}')\n",
        "    print(f'Translated back to words: {[tokenizer.index_word[i] for i in x[0]]} -> {tokenizer.index_word[y[0]]}')\n",
        "else:\n",
        "    print(\"Training sequences have not been generated. Possible issue: Complete the relevant section of the assignment to initialize it.\")\n"
      ]
    },
    {
      "cell_type": "markdown",
      "id": "d5bb2c55da17aaa0",
      "metadata": {
        "collapsed": false,
        "id": "d5bb2c55da17aaa0"
      },
      "source": [
        "And the following code will transform y into a one-hot encoded matrix, and split everything into training and validation sets:"
      ]
    },
    {
      "cell_type": "code",
      "execution_count": null,
      "id": "3a929b2e6c2cc921",
      "metadata": {
        "id": "3a929b2e6c2cc921"
      },
      "outputs": [],
      "source": [
        "from sklearn.model_selection import train_test_split\n",
        "from tensorflow.keras.preprocessing.text import Tokenizer\n",
        "from keras.utils import to_categorical\n",
        "import numpy as np\n",
        "\n",
        "# Ensure that tokenizer has been initialized\n",
        "if len(tokenizer.word_index) > 0:\n",
        "\n",
        "    # Convert x and y to numpy arrays\n",
        "    x = np.array(x)\n",
        "    y = np.array(y)\n",
        "\n",
        "    # One last thing: let's drop any examples where the target is the OOV token - we don't want our model to predict that (boring!)\n",
        "    if OOV_TOKEN in tokenizer.word_index:\n",
        "        mask = y != tokenizer.word_index[OOV_TOKEN]\n",
        "        x = x[mask]\n",
        "        y = y[mask]\n",
        "\n",
        "    # One-hot encode the target token\n",
        "    y = to_categorical(y, num_classes=VOCAB_SIZE)\n",
        "\n",
        "    # Split the data into training and validation sets\n",
        "    x_train, x_val, y_train, y_val = train_test_split(x, y, test_size=0.2, random_state=42)\n",
        "\n",
        "    print(f'X_train shape: {x_train.shape}')\n",
        "    print(f'y_train shape: {y_train.shape}')\n",
        "else:\n",
        "    print(\"Tokenizer has not been initialized. Please initialize it and load the vocabulary before continuing.\")\n"
      ]
    },
    {
      "cell_type": "markdown",
      "id": "b6e4161897210434",
      "metadata": {
        "collapsed": false,
        "id": "b6e4161897210434"
      },
      "source": [
        "# 2. Model Development (Complete or Incomplete)\n",
        "\n",
        "With the dataset prepared, it's time to develop the RNN model. You'll need to define the architecture of the model, compile it, and prepare it for training.\n",
        "\n",
        "## 2.1 Model Architecture\n",
        "\n",
        "Define the architecture of your RNN model. You can design it however you like, but there are a few features that it's important to include:\n",
        "\n",
        "*   An embedding layer that learns a dense representation of the input tokens. You'll need to specify the input dimension (the size of the vocabulary) and the output dimension (the size of the dense representation). Remember, you can look at the documentation [here](https://keras.io/api/layers/core_layers/embedding/).\n",
        "*   At least one recurrent layer. We have learned how to use LSTM layers in class, but you can use other types of recurrent layers if you prefer. You can find the documentation [here](https://keras.io/api/layers/recurrent_layers/lstm/).\n",
        "*   A dense layer with a softmax activation function. This layer will output a probability distribution over the vocabulary, so that the model can make predictions about the next token."
      ]
    },
    {
      "cell_type": "code",
      "execution_count": null,
      "id": "9fdfaad93818fc8d",
      "metadata": {
        "id": "9fdfaad93818fc8d"
      },
      "outputs": [],
      "source": [
        "from keras.models import Sequential\n",
        "from keras.layers import Embedding, LSTM, Dense\n",
        "\n",
        "model = Sequential([\n",
        "    # Your code here\n",
        "    Embedding(2500, 100, input_length=SEQ_LENGTH),\n",
        "    LSTM(128),\n",
        "    Dense(2500, activation='softmax')\n",
        "])\n",
        "\n",
        "# Check if the model has layers before trying to print the summary\n",
        "if len(model.layers) > 0:\n",
        "    model.summary()\n",
        "else:\n",
        "    print(\"Model has no layers. Please define the model architecture and try again.\")"
      ]
    },
    {
      "cell_type": "markdown",
      "id": "2fafd2dbb0d589fc",
      "metadata": {
        "collapsed": false,
        "id": "2fafd2dbb0d589fc"
      },
      "source": [
        "## 2.2 Model Compilation\n",
        "\n",
        "Compile the model with an appropriate loss function and optimizer. You might also want to track additional metrics, such as accuracy.\n",
        "\n",
        "Give a short explanation of your choice of loss function and optimizer:\n",
        "\n",
        "_your explanation here_"
      ]
    },
    {
      "cell_type": "code",
      "execution_count": null,
      "id": "ae4ca7a12051b1fd",
      "metadata": {
        "id": "ae4ca7a12051b1fd"
      },
      "outputs": [],
      "source": [
        "# Your code here\n",
        "model.compile(loss='categorical_crossentropy', optimizer='adam', metrics=['accuracy'])"
      ]
    },
    {
      "cell_type": "markdown",
      "id": "c2f0b90a448c4f4b",
      "metadata": {
        "collapsed": false,
        "id": "c2f0b90a448c4f4b"
      },
      "source": [
        "## 2.3 Model Training\n",
        "\n",
        "Train the model on the training data you've prepared.\n",
        "\n",
        "* Train your model for 5 epochs with a batch size of 128. Use the validation data for validation.\n",
        "* Store the training history in a variable called `history`."
      ]
    },
    {
      "cell_type": "code",
      "execution_count": null,
      "id": "256b1ea138c67ef7",
      "metadata": {
        "id": "256b1ea138c67ef7"
      },
      "outputs": [],
      "source": [
        "# Your code here\n",
        "history = model.fit(x_train, y_train, epochs=5, batch_size=128, validation_data=(x_val, y_val))"
      ]
    },
    {
      "cell_type": "markdown",
      "id": "195c59bf80d2a2c4",
      "metadata": {
        "collapsed": false,
        "id": "195c59bf80d2a2c4"
      },
      "source": [
        "Plot the training history to visualize the model's learning progress. Your plot should include the training and validation loss."
      ]
    },
    {
      "cell_type": "code",
      "execution_count": null,
      "id": "9e8cacec70d8f313",
      "metadata": {
        "id": "9e8cacec70d8f313"
      },
      "outputs": [],
      "source": [
        "import matplotlib.pyplot as plt\n",
        "\n",
        "# Your code here\n",
        "plt.plot(history.history['loss'], label='Training Loss')\n",
        "plt.plot(history.history['val_loss'], label='Validation Loss')\n",
        "plt.legend()\n",
        "plt.show()"
      ]
    },
    {
      "cell_type": "markdown",
      "id": "3d9ed71305787aed",
      "metadata": {
        "collapsed": false,
        "id": "3d9ed71305787aed"
      },
      "source": [
        "# 3. Text Generation (Complete or Incomplete)\n",
        "\n",
        "Write a method called `generate_text` that uses the trained model to generate new text. The method should take the following parameters:\n",
        "\n",
        "*   `model`: The trained RNN model.\n",
        "*   `tokenizer`: The tokenizer used to pre-process the text data.\n",
        "*   `seed_text`: The seed text the model will use to generate new text.\n",
        "*   `max_sequence_len`: The maximum length of the sequence used to generate new text.\n",
        "\n",
        "The method should return the generated text.\n",
        "\n",
        "An overview of the text generation process you should follow:\n",
        "\n",
        "1. Tokenize the seed text using the tokenizer we built before.\n",
        "2. Pad the sequences to the same length as the training sequences - you can use the `pad_sequences` method from the `keras.preprocessing.sequence` module, which is documented [here](https://www.tensorflow.org/api_docs/python/tf/keras/preprocessing/sequence/pad_sequences).\n",
        "3. Use the model to predict the next token in the sequence. Remember that the model will output a probability distribution over the vocabulary, so you'll need to use `np.argmax` to find the token with the highest probability.\n",
        "4. Add the predicted token to the sequence and remove the first token.\n",
        "5. Repeat steps 3-4 until you have generated the desired number of tokens.\n",
        "6. Convert the generated token IDs back to words and return the combined result as a single string.\n",
        "\n",
        "This is a challenging task, so don't hesitate to ask for help if you need it. It's okay if the generated text doesn't make much sense yet - we'll work on improving the model next.\n",
        "As a bonus, you can make your method generate \"gpt-style\" by having it print out each word as it's generated, so you can see the text being generated in real time."
      ]
    },
    {
      "cell_type": "code",
      "execution_count": null,
      "id": "d73dbf278a1265ef",
      "metadata": {
        "id": "d73dbf278a1265ef"
      },
      "outputs": [],
      "source": [
        "from keras.preprocessing.sequence import pad_sequences\n",
        "import numpy as np\n",
        "\n",
        "def get_predicted_word(model, sequence):\n",
        "    \"\"\"\n",
        "    Get the predicted word from the model.\n",
        "    This helper function uses a concept we haven't covered in class yet: temperature.\n",
        "    In essence, a little bit of randomness in what word we predict can make the text more interesting.\n",
        "    \"\"\"\n",
        "\n",
        "    # Use the model to predict the next token in the sequence\n",
        "    yhat = model.predict(sequence, verbose=0)\n",
        "\n",
        "    # Get the index of the predicted word, according to the probabilities\n",
        "    yhat = np.random.choice(range(VOCAB_SIZE), p=yhat.ravel())\n",
        "\n",
        "    return yhat\n",
        "\n",
        "def generate_text(model, tokenizer, seed_text, max_sequence_len=SEQ_LENGTH, num_words=20):\n",
        "    result = seed_text\n",
        "    for _ in range(num_words):\n",
        "        sequence = tokenizer.texts_to_sequences([result])[0]\n",
        "        sequence = pad_sequences([sequence], maxlen=max_sequence_len, padding='pre')\n",
        "        predicted = np.argmax(model.predict(sequence, verbose=0), axis=-1)\n",
        "        output_word = tokenizer.index_word.get(predicted[0], \"\")\n",
        "        result += \" \" + output_word\n",
        "    return result\n"
      ]
    },
    {
      "cell_type": "code",
      "execution_count": null,
      "id": "f463b0c3df49e2c",
      "metadata": {
        "id": "f463b0c3df49e2c"
      },
      "outputs": [],
      "source": [
        "# Test the text generation function\n",
        "generate_text(model=model, tokenizer=tokenizer, seed_text='pauper', max_sequence_len=SEQ_LENGTH)"
      ]
    },
    {
      "cell_type": "markdown",
      "id": "5871d836a0135c41",
      "metadata": {
        "collapsed": false,
        "id": "5871d836a0135c41"
      },
      "source": [
        "It's likely that the text generated by your model doesn't make much sense yet. This is because the model hasn't been trained for very long, and the training dataset is relatively small.\n",
        "\n",
        "# 4. Model Refinement (Complete or Incomplete)\n",
        "\n",
        "In this last section, you'll work on improving your model. There are many ways to do this, but here are a few ideas to get you started:\n",
        "\n",
        "* Use pre-trained embeddings: the code below will help you to load pre-trained embeddings through Keras.\n",
        "* Experiment with different model architectures, including the number of layers, the number of units in each layer, and the use of dropout layers.\n",
        "* Train your model for longer. You can also experiment with different batch sizes.\n",
        "\n",
        "Implement and test out at least one of these ideas. If you have other ideas for improving the model, feel free to try them out as well."
      ]
    },
    {
      "cell_type": "code",
      "execution_count": null,
      "id": "dda8b0f845c20862",
      "metadata": {
        "id": "dda8b0f845c20862"
      },
      "outputs": [],
      "source": [
        "!wget https://downloads.cs.stanford.edu/nlp/data/glove.6B.zip\n",
        "!unzip glove.6B.zip"
      ]
    },
    {
      "cell_type": "code",
      "execution_count": null,
      "id": "e8b777220505635",
      "metadata": {
        "id": "e8b777220505635"
      },
      "outputs": [],
      "source": [
        "# Load the pre-trained embeddings\n",
        "embeddings_index = {}\n",
        "try:\n",
        "    with open('glove.6B.100d.txt', encoding='utf-8') as f:\n",
        "        for line in f:\n",
        "            values = line.split()\n",
        "            word = values[0]\n",
        "            coefs = np.asarray(values[1:], dtype='float32')\n",
        "            embeddings_index[word] = coefs\n",
        "    print(f'Found {len(embeddings_index)} word vectors.')\n",
        "except FileNotFoundError:\n",
        "    print(\"'glove.6B.100d.txt' File not found. Please make sure you have ran the previous cell.\")"
      ]
    },
    {
      "cell_type": "code",
      "execution_count": null,
      "id": "d3e48ff004757cf2",
      "metadata": {
        "id": "d3e48ff004757cf2"
      },
      "outputs": [],
      "source": [
        "# Check if VOCAB_SIZE is set\n",
        "if VOCAB_SIZE is None:\n",
        "    print(\"You need to complete the previous parts of your assignment in order for this to work.\")\n",
        "else:\n",
        "    # Create an embedding matrix\n",
        "    embedding_matrix = np.zeros((VOCAB_SIZE, 100))\n",
        "    for word, i in tokenizer.word_index.items():\n",
        "        if i < VOCAB_SIZE:\n",
        "            embedding_vector = embeddings_index.get(word)\n",
        "            if embedding_vector is not None:\n",
        "                embedding_matrix[i] = embedding_vector"
      ]
    },
    {
      "cell_type": "code",
      "execution_count": null,
      "id": "e3d21d5dbbbcf9f9",
      "metadata": {
        "id": "e3d21d5dbbbcf9f9"
      },
      "outputs": [],
      "source": [
        "# Check if VOCAB_SIZE is set\n",
        "if VOCAB_SIZE is None:\n",
        "    print(\"You need to complete the previous parts of your assignment in order for this to work.\")\n",
        "else:\n",
        "    embedding_layer = Embedding(\n",
        "        VOCAB_SIZE, 100, weights=[embedding_matrix], input_length=SEQ_LENGTH, trainable=False\n",
        "    )"
      ]
    },
    {
      "cell_type": "code",
      "execution_count": null,
      "id": "236cb723e4e5b3fc",
      "metadata": {
        "id": "236cb723e4e5b3fc"
      },
      "outputs": [],
      "source": [
        "# Define a new model and train it\n",
        "# Your code here\n",
        "\n",
        "# Define improved RNN model\n",
        "from keras.models import Sequential\n",
        "from keras.layers import Embedding, LSTM, Dense, Dropout\n",
        "model = Sequential([\n",
        "    Embedding(VOCAB_SIZE, 100, input_length=SEQ_LENGTH),\n",
        "    LSTM(128, return_sequences=True),\n",
        "    Dropout(0.2),\n",
        "    LSTM(128),\n",
        "    Dropout(0.2),\n",
        "    Dense(128, activation='relu'),\n",
        "    Dense(VOCAB_SIZE, activation='softmax')\n",
        "])\n"
      ]
    },
    {
      "cell_type": "code",
      "source": [
        "# Train model for more epochs\n",
        "history = model.fit(x_train, y_train, epochs=10, batch_size=128, validation_data=(x_val, y_val))"
      ],
      "metadata": {
        "id": "lMzQh4o9mvSb"
      },
      "id": "lMzQh4o9mvSb",
      "execution_count": null,
      "outputs": []
    },
    {
      "cell_type": "code",
      "source": [
        "# Function to generate text\n",
        "def generate_text(model, tokenizer, seed_text, max_sequence_len=SEQ_LENGTH, num_words=20):\n",
        "    result = seed_text\n",
        "    for _ in range(num_words):\n",
        "        sequence = tokenizer.texts_to_sequences([result])[0]\n",
        "        sequence = pad_sequences([sequence], maxlen=max_sequence_len, padding='pre')\n",
        "        predicted = np.argmax(model.predict(sequence, verbose=0), axis=-1)\n",
        "        output_word = tokenizer.index_word.get(predicted[0], \"\")\n",
        "        result += \" \" + output_word\n",
        "    return result\n",
        "\n",
        "# Test text generation\n",
        "test_output = generate_text(model, tokenizer, \"pauper\", SEQ_LENGTH, 20)\n",
        "print(\"Generated Text:\\n\", test_output)"
      ],
      "metadata": {
        "id": "wc8A2SRim5HA"
      },
      "id": "wc8A2SRim5HA",
      "execution_count": null,
      "outputs": []
    },
    {
      "cell_type": "markdown",
      "id": "742095fb",
      "metadata": {
        "id": "742095fb"
      },
      "source": [
        "## Criteria\n",
        "\n",
        "|Criteria|Complete|Incomplete|\n",
        "|----|----|----|\n",
        "|Task 1|The task has been completed successfully and there are no errors.|The task is still incomplete and there is at least one error.|\n",
        "|Task 2|The task has been completed successfully and there are no errors.|The task is still incomplete and there is at least one error.|\n",
        "|Task 3|The task has been completed successfully and there are no errors.|The task is still incomplete and there is at least one error.|\n",
        "|Task 4|The task has been completed successfully and there are no errors.|The task is still incomplete and there is at least one error.|"
      ]
    },
    {
      "cell_type": "markdown",
      "id": "1990e2d2",
      "metadata": {
        "id": "1990e2d2"
      },
      "source": [
        "## Submission Information\n",
        "\n",
        "🚨**Please review our [Assignment Submission Guide](https://github.com/UofT-DSI/onboarding/blob/main/onboarding_documents/submissions.md)**🚨 for detailed instructions on how to format, branch, and submit your work. Following these guidelines is crucial for your submissions to be evaluated correctly.\n",
        "\n",
        "### Submission Parameters:\n",
        "* Submission Due Date: `HH:MM AM/PM - DD/MM/YYYY`\n",
        "* The branch name for your repo should be: `assignment-2`\n",
        "* What to submit for this assignment:\n",
        "    * This Jupyter Notebook (assignment_2.ipynb) should be populated and should be the only change in your pull request.\n",
        "* What the pull request link should look like for this assignment: `https://github.com/<your_github_username>/deep_learning/pull/<pr_id>`\n",
        "    * Open a private window in your browser. Copy and paste the link to your pull request into the address bar. Make sure you can see your pull request properly. This helps the technical facilitator and learning support staff review your submission easily.\n",
        "\n",
        "Checklist:\n",
        "- [ ] Created a branch with the correct naming convention.\n",
        "- [ ] Ensured that the repository is public.\n",
        "- [ ] Reviewed the PR description guidelines and adhered to them.\n",
        "- [ ] Verify that the link is accessible in a private browser window.\n",
        "\n",
        "If you encounter any difficulties or have questions, please don't hesitate to reach out to our team via our Slack at `#cohort-3-help`. Our Technical Facilitators and Learning Support staff are here to help you navigate any challenges."
      ]
    }
  ],
  "metadata": {
    "colab": {
      "provenance": []
    },
    "kernelspec": {
      "display_name": "Python 3",
      "name": "python3"
    },
    "language_info": {
      "codemirror_mode": {
        "name": "ipython",
        "version": 3
      },
      "file_extension": ".py",
      "mimetype": "text/x-python",
      "name": "python",
      "nbconvert_exporter": "python",
      "pygments_lexer": "ipython3",
      "version": "3.9.19"
    }
  },
  "nbformat": 4,
  "nbformat_minor": 5
}