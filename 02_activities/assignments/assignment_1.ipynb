{
  "cells": [
    {
      "cell_type": "markdown",
      "id": "ba8ab56f",
      "metadata": {
        "id": "ba8ab56f"
      },
      "source": [
        "# Advanced Image Classification with ImageNet"
      ]
    },
    {
      "cell_type": "markdown",
      "id": "7c630244b8fe2847",
      "metadata": {
        "collapsed": false,
        "id": "7c630244b8fe2847"
      },
      "source": [
        "In this assignment, you will be asked to develop a convolutional neural network (CNN) to classify images from the CIFAR-100 dataset. At each step, you'll be guided through the process of developing a model architecture to solve a problem. Your goal is to create a CNN that attains at least 55% accuracy on the validation set.\n",
        "\n",
        "### The CIFAR-100 Dataset\n",
        "\n",
        "The [CIFAR-100 dataset](https://www.cs.toronto.edu/~kriz/cifar.html) consists of 60000 32x32 colour images in 100 classes, with 600 images per class. There are 50000 training images and 10000 test images. The dataset is divided into five training batches and one test batch, each with 10000 images. The test batch contains exactly 1000 randomly-selected images from each class. The training batches contain the remaining images in random order, but some training batches may contain more images from one class than another. Between them, the training batches contain exactly 500 images from each class.\n",
        "\n",
        "### Tools\n",
        "\n",
        "You will use Keras with TensorFlow to develop your CNN. For this assignment, it's strongly recommended that you use a GPU to accelerate your training, or else you might find it difficult to train your network in a reasonable amount of time. If you have a computer with a GPU that you wish to use, you can follow the [TensorFlow instructions](https://www.tensorflow.org/install/) for installing TensorFlow with GPU support. Otherwise, you can use [Google Colab](https://colab.research.google.com/) to complete this assignment. Colab provides free access to GPU-enabled machines. If you run into any issues, please contact us as soon as possible so that we can help you resolve them."
      ]
    },
    {
      "cell_type": "markdown",
      "id": "fab62988ece1528d",
      "metadata": {
        "collapsed": false,
        "id": "fab62988ece1528d"
      },
      "source": [
        "## Task 1: Data Exploration and Preprocessing (Complete or Incomplete)\n",
        "### 1a: Load and Explore the Dataset\n",
        "- Use the code below to download the dataset.\n",
        "- Explore the dataset: examine the shape of the training and test sets, the dimensions of the images, and the number of classes. Show a few examples from the training set."
      ]
    },
    {
      "cell_type": "code",
      "execution_count": 1,
      "id": "8820fcdc5ae52ae2",
      "metadata": {
        "ExecuteTime": {
          "start_time": "2024-01-26T17:04:08.432758Z"
        },
        "is_executing": true,
        "colab": {
          "base_uri": "https://localhost:8080/"
        },
        "id": "8820fcdc5ae52ae2",
        "outputId": "ffd5ab34-421e-4592-f2da-360586ea0e96"
      },
      "outputs": [
        {
          "output_type": "stream",
          "name": "stdout",
          "text": [
            "Downloading data from https://www.cs.toronto.edu/~kriz/cifar-100-python.tar.gz\n",
            "\u001b[1m169001437/169001437\u001b[0m \u001b[32m━━━━━━━━━━━━━━━━━━━━\u001b[0m\u001b[37m\u001b[0m \u001b[1m6s\u001b[0m 0us/step\n"
          ]
        }
      ],
      "source": [
        "from keras.datasets import cifar100\n",
        "\n",
        "# Load the CIFAR-100 dataset\n",
        "(x_train, y_train), (x_test, y_test) = cifar100.load_data(label_mode='fine')"
      ]
    },
    {
      "cell_type": "code",
      "execution_count": 2,
      "id": "a386b4072078138f",
      "metadata": {
        "id": "a386b4072078138f"
      },
      "outputs": [],
      "source": [
        "class_names = [\n",
        "    \"apple\", \"aquarium_fish\", \"baby\", \"bear\", \"beaver\", \"bed\", \"bee\", \"beetle\", \"bicycle\", \"bottle\",\n",
        "    \"bowl\", \"boy\", \"bridge\", \"bus\", \"butterfly\", \"camel\", \"can\", \"castle\", \"caterpillar\", \"cattle\",\n",
        "    \"chair\", \"chimpanzee\", \"clock\", \"cloud\", \"cockroach\", \"couch\", \"crab\", \"crocodile\", \"cup\", \"dinosaur\",\n",
        "    \"dolphin\", \"elephant\", \"flatfish\", \"forest\", \"fox\", \"girl\", \"hamster\", \"house\", \"kangaroo\", \"keyboard\",\n",
        "    \"lamp\", \"lawn_mower\", \"leopard\", \"lion\", \"lizard\", \"lobster\", \"man\", \"maple_tree\", \"motorcycle\", \"mountain\",\n",
        "    \"mouse\", \"mushroom\", \"oak_tree\", \"orange\", \"orchid\", \"otter\", \"palm_tree\", \"pear\", \"pickup_truck\", \"pine_tree\",\n",
        "    \"plain\", \"plate\", \"poppy\", \"porcupine\", \"possum\", \"rabbit\", \"raccoon\", \"ray\", \"road\", \"rocket\",\n",
        "    \"rose\", \"sea\", \"seal\", \"shark\", \"shrew\", \"skunk\", \"skyscraper\", \"snail\", \"snake\", \"spider\",\n",
        "    \"squirrel\", \"streetcar\", \"sunflower\", \"sweet_pepper\", \"table\", \"tank\", \"telephone\", \"television\", \"tiger\", \"tractor\",\n",
        "    \"train\", \"trout\", \"tulip\", \"turtle\", \"wardrobe\", \"whale\", \"willow_tree\", \"wolf\", \"woman\", \"worm\"\n",
        "]"
      ]
    },
    {
      "cell_type": "code",
      "execution_count": 3,
      "id": "36ca8354",
      "metadata": {
        "colab": {
          "base_uri": "https://localhost:8080/",
          "height": 183
        },
        "id": "36ca8354",
        "outputId": "1bbee1de-d376-4d2b-c074-bf86247bec55"
      },
      "outputs": [
        {
          "output_type": "stream",
          "name": "stdout",
          "text": [
            "Training data shape: (50000, 32, 32, 3)\n",
            "Testing data shape: (10000, 32, 32, 3)\n"
          ]
        },
        {
          "output_type": "display_data",
          "data": {
            "text/plain": [
              "<Figure size 1000x200 with 6 Axes>"
            ],
            "image/png": "[encoded data removed]"
          },
          "metadata": {}
        }
      ],
      "source": [
        "# Your Code Here\n",
        "\n",
        "import numpy as np\n",
        "import matplotlib.pyplot as plt\n",
        "\n",
        "# Print dataset shapes\n",
        "print(\"Training data shape:\", x_train.shape)\n",
        "print(\"Testing data shape:\", x_test.shape)\n",
        "\n",
        "\n",
        "# Display images\n",
        "num_images = 6\n",
        "fig, axes = plt.subplots(1, num_images, figsize=(10, 2))\n",
        "\n",
        "for i in range(num_images):\n",
        "    axes[i].imshow(x_train[i])\n",
        "    axes[i].axis('off')\n",
        "\n",
        "plt.show()"
      ]
    },
    {
      "cell_type": "markdown",
      "id": "ad49291da3a819ea",
      "metadata": {
        "collapsed": false,
        "id": "ad49291da3a819ea"
      },
      "source": [
        "### 1b: Data Preprocessing\n",
        "- With the data downloaded, it's time to preprocess it. Start by normalizing the images so that they all have pixel values in the range [0, 1].\n",
        "- Next, convert the labels to one-hot encoded vectors.\n",
        "- Finally, split the training set into training and validation sets. Use 80% of the training set for training and the remaining 20% for validation."
      ]
    },
    {
      "cell_type": "code",
      "execution_count": 4,
      "id": "b18c10172fa72d0c",
      "metadata": {
        "id": "b18c10172fa72d0c"
      },
      "outputs": [],
      "source": [
        "# Your Code Here\n",
        "\n",
        "from keras.utils import to_categorical\n",
        "from sklearn.model_selection import train_test_split\n",
        "\n",
        "# Normalize pixel values\n",
        "x_train = x_train / 255.0\n",
        "x_test = x_test / 255.0\n",
        "\n",
        "# One-hot encode labels\n",
        "y_train = to_categorical(y_train, 100)\n",
        "y_test = to_categorical(y_test, 100)\n",
        "\n",
        "# Split training data into training (80%) and testing (20%)\n",
        "x_train, x_val, y_train, y_val = train_test_split(x_train, y_train, test_size=0.2, random_state=42)\n"
      ]
    },
    {
      "cell_type": "markdown",
      "id": "5993757f08c89db7",
      "metadata": {
        "collapsed": false,
        "id": "5993757f08c89db7"
      },
      "source": [
        "## Task 2: Model Development (Complete or Incomplete)\n",
        "### Task 2a: Create a Baseline CNN Model\n",
        "- Design a CNN architecture. Your architecture should use convolutional layers, max pooling layers, and dense layers. You can use any number of layers, and you can experiment with different numbers of filters, filter sizes, strides, padding, etc. The design doesn't need to be perfect, but it should be unique to you.\n",
        "- Print out the model summary."
      ]
    },
    {
      "cell_type": "code",
      "source": [
        "from tensorflow.keras.models import Sequential\n",
        "from tensorflow.keras.layers import Dropout, BatchNormalization, Conv2D, MaxPooling2D, Flatten, Dense, Dropout\n",
        "\n",
        "# Define the CNN model\n",
        "model = Sequential([\n",
        "    Conv2D(32, (3,3), activation='relu', padding='same', input_shape=(32, 32, 3)),\n",
        "    BatchNormalization(),\n",
        "    Dropout(0.2),\n",
        "    MaxPooling2D((2,2)),\n",
        "\n",
        "    Conv2D(64, (3,3), activation='relu', padding='same'),\n",
        "    BatchNormalization(),\n",
        "    Dropout(0.3),\n",
        "    MaxPooling2D((2,2)),\n",
        "\n",
        "    Conv2D(128, (3,3), activation='relu', padding='same'),\n",
        "    BatchNormalization(),\n",
        "    Dropout(0.4),\n",
        "    MaxPooling2D((2,2)),\n",
        "\n",
        "    Flatten(),\n",
        "    Dense(256, activation='relu'),\n",
        "    Dropout(0.5),\n",
        "    Dense(100, activation='softmax')\n",
        "])\n",
        "\n",
        "# Print model summary\n",
        "model.summary()\n"
      ],
      "metadata": {
        "colab": {
          "base_uri": "https://localhost:8080/",
          "height": 745
        },
        "id": "s0otbO7x-RlT",
        "outputId": "0c747ddd-a449-4205-c473-589383d7f761"
      },
      "id": "s0otbO7x-RlT",
      "execution_count": 6,
      "outputs": [
        {
          "output_type": "stream",
          "name": "stderr",
          "text": [
            "/usr/local/lib/python3.11/dist-packages/keras/src/layers/convolutional/base_conv.py:107: UserWarning: Do not pass an `input_shape`/`input_dim` argument to a layer. When using Sequential models, prefer using an `Input(shape)` object as the first layer in the model instead.\n",
            "  super().__init__(activity_regularizer=activity_regularizer, **kwargs)\n"
          ]
        },
        {
          "output_type": "display_data",
          "data": {
            "text/plain": [
              "\u001b[1mModel: \"sequential\"\u001b[0m\n"
            ],
            "text/html": [
              "<pre style=\"white-space:pre;overflow-x:auto;line-height:normal;font-family:Menlo,'DejaVu Sans Mono',consolas,'Courier New',monospace\"><span style=\"font-weight: bold\">Model: \"sequential\"</span>\n",
              "</pre>\n"
            ]
          },
          "metadata": {}
        },
        {
          "output_type": "display_data",
          "data": {
            "text/plain": [
              "┏━━━━━━━━━━━━━━━━━━━━━━━━━━━━━━━━━━━━━━┳━━━━━━━━━━━━━━━━━━━━━━━━━━━━━┳━━━━━━━━━━━━━━━━━┓\n",
              "┃\u001b[1m \u001b[0m\u001b[1mLayer (type)                        \u001b[0m\u001b[1m \u001b[0m┃\u001b[1m \u001b[0m\u001b[1mOutput Shape               \u001b[0m\u001b[1m \u001b[0m┃\u001b[1m \u001b[0m\u001b[1m        Param #\u001b[0m\u001b[1m \u001b[0m┃\n",
              "┡━━━━━━━━━━━━━━━━━━━━━━━━━━━━━━━━━━━━━━╇━━━━━━━━━━━━━━━━━━━━━━━━━━━━━╇━━━━━━━━━━━━━━━━━┩\n",
              "│ conv2d (\u001b[38;5;33mConv2D\u001b[0m)                      │ (\u001b[38;5;45mNone\u001b[0m, \u001b[38;5;34m32\u001b[0m, \u001b[38;5;34m32\u001b[0m, \u001b[38;5;34m32\u001b[0m)          │             \u001b[38;5;34m896\u001b[0m │\n",
              "├──────────────────────────────────────┼─────────────────────────────┼─────────────────┤\n",
              "│ batch_normalization                  │ (\u001b[38;5;45mNone\u001b[0m, \u001b[38;5;34m32\u001b[0m, \u001b[38;5;34m32\u001b[0m, \u001b[38;5;34m32\u001b[0m)          │             \u001b[38;5;34m128\u001b[0m │\n",
              "│ (\u001b[38;5;33mBatchNormalization\u001b[0m)                 │                             │                 │\n",
              "├──────────────────────────────────────┼─────────────────────────────┼─────────────────┤\n",
              "│ dropout (\u001b[38;5;33mDropout\u001b[0m)                    │ (\u001b[38;5;45mNone\u001b[0m, \u001b[38;5;34m32\u001b[0m, \u001b[38;5;34m32\u001b[0m, \u001b[38;5;34m32\u001b[0m)          │               \u001b[38;5;34m0\u001b[0m │\n",
              "├──────────────────────────────────────┼─────────────────────────────┼─────────────────┤\n",
              "│ max_pooling2d (\u001b[38;5;33mMaxPooling2D\u001b[0m)         │ (\u001b[38;5;45mNone\u001b[0m, \u001b[38;5;34m16\u001b[0m, \u001b[38;5;34m16\u001b[0m, \u001b[38;5;34m32\u001b[0m)          │               \u001b[38;5;34m0\u001b[0m │\n",
              "├──────────────────────────────────────┼─────────────────────────────┼─────────────────┤\n",
              "│ conv2d_1 (\u001b[38;5;33mConv2D\u001b[0m)                    │ (\u001b[38;5;45mNone\u001b[0m, \u001b[38;5;34m16\u001b[0m, \u001b[38;5;34m16\u001b[0m, \u001b[38;5;34m64\u001b[0m)          │          \u001b[38;5;34m18,496\u001b[0m │\n",
              "├──────────────────────────────────────┼─────────────────────────────┼─────────────────┤\n",
              "│ batch_normalization_1                │ (\u001b[38;5;45mNone\u001b[0m, \u001b[38;5;34m16\u001b[0m, \u001b[38;5;34m16\u001b[0m, \u001b[38;5;34m64\u001b[0m)          │             \u001b[38;5;34m256\u001b[0m │\n",
              "│ (\u001b[38;5;33mBatchNormalization\u001b[0m)                 │                             │                 │\n",
              "├──────────────────────────────────────┼─────────────────────────────┼─────────────────┤\n",
              "│ dropout_1 (\u001b[38;5;33mDropout\u001b[0m)                  │ (\u001b[38;5;45mNone\u001b[0m, \u001b[38;5;34m16\u001b[0m, \u001b[38;5;34m16\u001b[0m, \u001b[38;5;34m64\u001b[0m)          │               \u001b[38;5;34m0\u001b[0m │\n",
              "├──────────────────────────────────────┼─────────────────────────────┼─────────────────┤\n",
              "│ max_pooling2d_1 (\u001b[38;5;33mMaxPooling2D\u001b[0m)       │ (\u001b[38;5;45mNone\u001b[0m, \u001b[38;5;34m8\u001b[0m, \u001b[38;5;34m8\u001b[0m, \u001b[38;5;34m64\u001b[0m)            │               \u001b[38;5;34m0\u001b[0m │\n",
              "├──────────────────────────────────────┼─────────────────────────────┼─────────────────┤\n",
              "│ conv2d_2 (\u001b[38;5;33mConv2D\u001b[0m)                    │ (\u001b[38;5;45mNone\u001b[0m, \u001b[38;5;34m8\u001b[0m, \u001b[38;5;34m8\u001b[0m, \u001b[38;5;34m128\u001b[0m)           │          \u001b[38;5;34m73,856\u001b[0m │\n",
              "├──────────────────────────────────────┼─────────────────────────────┼─────────────────┤\n",
              "│ batch_normalization_2                │ (\u001b[38;5;45mNone\u001b[0m, \u001b[38;5;34m8\u001b[0m, \u001b[38;5;34m8\u001b[0m, \u001b[38;5;34m128\u001b[0m)           │             \u001b[38;5;34m512\u001b[0m │\n",
              "│ (\u001b[38;5;33mBatchNormalization\u001b[0m)                 │                             │                 │\n",
              "├──────────────────────────────────────┼─────────────────────────────┼─────────────────┤\n",
              "│ dropout_2 (\u001b[38;5;33mDropout\u001b[0m)                  │ (\u001b[38;5;45mNone\u001b[0m, \u001b[38;5;34m8\u001b[0m, \u001b[38;5;34m8\u001b[0m, \u001b[38;5;34m128\u001b[0m)           │               \u001b[38;5;34m0\u001b[0m │\n",
              "├──────────────────────────────────────┼─────────────────────────────┼─────────────────┤\n",
              "│ max_pooling2d_2 (\u001b[38;5;33mMaxPooling2D\u001b[0m)       │ (\u001b[38;5;45mNone\u001b[0m, \u001b[38;5;34m4\u001b[0m, \u001b[38;5;34m4\u001b[0m, \u001b[38;5;34m128\u001b[0m)           │               \u001b[38;5;34m0\u001b[0m │\n",
              "├──────────────────────────────────────┼─────────────────────────────┼─────────────────┤\n",
              "│ flatten (\u001b[38;5;33mFlatten\u001b[0m)                    │ (\u001b[38;5;45mNone\u001b[0m, \u001b[38;5;34m2048\u001b[0m)                │               \u001b[38;5;34m0\u001b[0m │\n",
              "├──────────────────────────────────────┼─────────────────────────────┼─────────────────┤\n",
              "│ dense (\u001b[38;5;33mDense\u001b[0m)                        │ (\u001b[38;5;45mNone\u001b[0m, \u001b[38;5;34m256\u001b[0m)                 │         \u001b[38;5;34m524,544\u001b[0m │\n",
              "├──────────────────────────────────────┼─────────────────────────────┼─────────────────┤\n",
              "│ dropout_3 (\u001b[38;5;33mDropout\u001b[0m)                  │ (\u001b[38;5;45mNone\u001b[0m, \u001b[38;5;34m256\u001b[0m)                 │               \u001b[38;5;34m0\u001b[0m │\n",
              "├──────────────────────────────────────┼─────────────────────────────┼─────────────────┤\n",
              "│ dense_1 (\u001b[38;5;33mDense\u001b[0m)                      │ (\u001b[38;5;45mNone\u001b[0m, \u001b[38;5;34m100\u001b[0m)                 │          \u001b[38;5;34m25,700\u001b[0m │\n",
              "└──────────────────────────────────────┴─────────────────────────────┴─────────────────┘\n"
            ],
            "text/html": [
              "<pre style=\"white-space:pre;overflow-x:auto;line-height:normal;font-family:Menlo,'DejaVu Sans Mono',consolas,'Courier New',monospace\">┏━━━━━━━━━━━━━━━━━━━━━━━━━━━━━━━━━━━━━━┳━━━━━━━━━━━━━━━━━━━━━━━━━━━━━┳━━━━━━━━━━━━━━━━━┓\n",
              "┃<span style=\"font-weight: bold\"> Layer (type)                         </span>┃<span style=\"font-weight: bold\"> Output Shape                </span>┃<span style=\"font-weight: bold\">         Param # </span>┃\n",
              "┡━━━━━━━━━━━━━━━━━━━━━━━━━━━━━━━━━━━━━━╇━━━━━━━━━━━━━━━━━━━━━━━━━━━━━╇━━━━━━━━━━━━━━━━━┩\n",
              "│ conv2d (<span style=\"color: #0087ff; text-decoration-color: #0087ff\">Conv2D</span>)                      │ (<span style=\"color: #00d7ff; text-decoration-color: #00d7ff\">None</span>, <span style=\"color: #00af00; text-decoration-color: #00af00\">32</span>, <span style=\"color: #00af00; text-decoration-color: #00af00\">32</span>, <span style=\"color: #00af00; text-decoration-color: #00af00\">32</span>)          │             <span style=\"color: #00af00; text-decoration-color: #00af00\">896</span> │\n",
              "├──────────────────────────────────────┼─────────────────────────────┼─────────────────┤\n",
              "│ batch_normalization                  │ (<span style=\"color: #00d7ff; text-decoration-color: #00d7ff\">None</span>, <span style=\"color: #00af00; text-decoration-color: #00af00\">32</span>, <span style=\"color: #00af00; text-decoration-color: #00af00\">32</span>, <span style=\"color: #00af00; text-decoration-color: #00af00\">32</span>)          │             <span style=\"color: #00af00; text-decoration-color: #00af00\">128</span> │\n",
              "│ (<span style=\"color: #0087ff; text-decoration-color: #0087ff\">BatchNormalization</span>)                 │                             │                 │\n",
              "├──────────────────────────────────────┼─────────────────────────────┼─────────────────┤\n",
              "│ dropout (<span style=\"color: #0087ff; text-decoration-color: #0087ff\">Dropout</span>)                    │ (<span style=\"color: #00d7ff; text-decoration-color: #00d7ff\">None</span>, <span style=\"color: #00af00; text-decoration-color: #00af00\">32</span>, <span style=\"color: #00af00; text-decoration-color: #00af00\">32</span>, <span style=\"color: #00af00; text-decoration-color: #00af00\">32</span>)          │               <span style=\"color: #00af00; text-decoration-color: #00af00\">0</span> │\n",
              "├──────────────────────────────────────┼─────────────────────────────┼─────────────────┤\n",
              "│ max_pooling2d (<span style=\"color: #0087ff; text-decoration-color: #0087ff\">MaxPooling2D</span>)         │ (<span style=\"color: #00d7ff; text-decoration-color: #00d7ff\">None</span>, <span style=\"color: #00af00; text-decoration-color: #00af00\">16</span>, <span style=\"color: #00af00; text-decoration-color: #00af00\">16</span>, <span style=\"color: #00af00; text-decoration-color: #00af00\">32</span>)          │               <span style=\"color: #00af00; text-decoration-color: #00af00\">0</span> │\n",
              "├──────────────────────────────────────┼─────────────────────────────┼─────────────────┤\n",
              "│ conv2d_1 (<span style=\"color: #0087ff; text-decoration-color: #0087ff\">Conv2D</span>)                    │ (<span style=\"color: #00d7ff; text-decoration-color: #00d7ff\">None</span>, <span style=\"color: #00af00; text-decoration-color: #00af00\">16</span>, <span style=\"color: #00af00; text-decoration-color: #00af00\">16</span>, <span style=\"color: #00af00; text-decoration-color: #00af00\">64</span>)          │          <span style=\"color: #00af00; text-decoration-color: #00af00\">18,496</span> │\n",
              "├──────────────────────────────────────┼─────────────────────────────┼─────────────────┤\n",
              "│ batch_normalization_1                │ (<span style=\"color: #00d7ff; text-decoration-color: #00d7ff\">None</span>, <span style=\"color: #00af00; text-decoration-color: #00af00\">16</span>, <span style=\"color: #00af00; text-decoration-color: #00af00\">16</span>, <span style=\"color: #00af00; text-decoration-color: #00af00\">64</span>)          │             <span style=\"color: #00af00; text-decoration-color: #00af00\">256</span> │\n",
              "│ (<span style=\"color: #0087ff; text-decoration-color: #0087ff\">BatchNormalization</span>)                 │                             │                 │\n",
              "├──────────────────────────────────────┼─────────────────────────────┼─────────────────┤\n",
              "│ dropout_1 (<span style=\"color: #0087ff; text-decoration-color: #0087ff\">Dropout</span>)                  │ (<span style=\"color: #00d7ff; text-decoration-color: #00d7ff\">None</span>, <span style=\"color: #00af00; text-decoration-color: #00af00\">16</span>, <span style=\"color: #00af00; text-decoration-color: #00af00\">16</span>, <span style=\"color: #00af00; text-decoration-color: #00af00\">64</span>)          │               <span style=\"color: #00af00; text-decoration-color: #00af00\">0</span> │\n",
              "├──────────────────────────────────────┼─────────────────────────────┼─────────────────┤\n",
              "│ max_pooling2d_1 (<span style=\"color: #0087ff; text-decoration-color: #0087ff\">MaxPooling2D</span>)       │ (<span style=\"color: #00d7ff; text-decoration-color: #00d7ff\">None</span>, <span style=\"color: #00af00; text-decoration-color: #00af00\">8</span>, <span style=\"color: #00af00; text-decoration-color: #00af00\">8</span>, <span style=\"color: #00af00; text-decoration-color: #00af00\">64</span>)            │               <span style=\"color: #00af00; text-decoration-color: #00af00\">0</span> │\n",
              "├──────────────────────────────────────┼─────────────────────────────┼─────────────────┤\n",
              "│ conv2d_2 (<span style=\"color: #0087ff; text-decoration-color: #0087ff\">Conv2D</span>)                    │ (<span style=\"color: #00d7ff; text-decoration-color: #00d7ff\">None</span>, <span style=\"color: #00af00; text-decoration-color: #00af00\">8</span>, <span style=\"color: #00af00; text-decoration-color: #00af00\">8</span>, <span style=\"color: #00af00; text-decoration-color: #00af00\">128</span>)           │          <span style=\"color: #00af00; text-decoration-color: #00af00\">73,856</span> │\n",
              "├──────────────────────────────────────┼─────────────────────────────┼─────────────────┤\n",
              "│ batch_normalization_2                │ (<span style=\"color: #00d7ff; text-decoration-color: #00d7ff\">None</span>, <span style=\"color: #00af00; text-decoration-color: #00af00\">8</span>, <span style=\"color: #00af00; text-decoration-color: #00af00\">8</span>, <span style=\"color: #00af00; text-decoration-color: #00af00\">128</span>)           │             <span style=\"color: #00af00; text-decoration-color: #00af00\">512</span> │\n",
              "│ (<span style=\"color: #0087ff; text-decoration-color: #0087ff\">BatchNormalization</span>)                 │                             │                 │\n",
              "├──────────────────────────────────────┼─────────────────────────────┼─────────────────┤\n",
              "│ dropout_2 (<span style=\"color: #0087ff; text-decoration-color: #0087ff\">Dropout</span>)                  │ (<span style=\"color: #00d7ff; text-decoration-color: #00d7ff\">None</span>, <span style=\"color: #00af00; text-decoration-color: #00af00\">8</span>, <span style=\"color: #00af00; text-decoration-color: #00af00\">8</span>, <span style=\"color: #00af00; text-decoration-color: #00af00\">128</span>)           │               <span style=\"color: #00af00; text-decoration-color: #00af00\">0</span> │\n",
              "├──────────────────────────────────────┼─────────────────────────────┼─────────────────┤\n",
              "│ max_pooling2d_2 (<span style=\"color: #0087ff; text-decoration-color: #0087ff\">MaxPooling2D</span>)       │ (<span style=\"color: #00d7ff; text-decoration-color: #00d7ff\">None</span>, <span style=\"color: #00af00; text-decoration-color: #00af00\">4</span>, <span style=\"color: #00af00; text-decoration-color: #00af00\">4</span>, <span style=\"color: #00af00; text-decoration-color: #00af00\">128</span>)           │               <span style=\"color: #00af00; text-decoration-color: #00af00\">0</span> │\n",
              "├──────────────────────────────────────┼─────────────────────────────┼─────────────────┤\n",
              "│ flatten (<span style=\"color: #0087ff; text-decoration-color: #0087ff\">Flatten</span>)                    │ (<span style=\"color: #00d7ff; text-decoration-color: #00d7ff\">None</span>, <span style=\"color: #00af00; text-decoration-color: #00af00\">2048</span>)                │               <span style=\"color: #00af00; text-decoration-color: #00af00\">0</span> │\n",
              "├──────────────────────────────────────┼─────────────────────────────┼─────────────────┤\n",
              "│ dense (<span style=\"color: #0087ff; text-decoration-color: #0087ff\">Dense</span>)                        │ (<span style=\"color: #00d7ff; text-decoration-color: #00d7ff\">None</span>, <span style=\"color: #00af00; text-decoration-color: #00af00\">256</span>)                 │         <span style=\"color: #00af00; text-decoration-color: #00af00\">524,544</span> │\n",
              "├──────────────────────────────────────┼─────────────────────────────┼─────────────────┤\n",
              "│ dropout_3 (<span style=\"color: #0087ff; text-decoration-color: #0087ff\">Dropout</span>)                  │ (<span style=\"color: #00d7ff; text-decoration-color: #00d7ff\">None</span>, <span style=\"color: #00af00; text-decoration-color: #00af00\">256</span>)                 │               <span style=\"color: #00af00; text-decoration-color: #00af00\">0</span> │\n",
              "├──────────────────────────────────────┼─────────────────────────────┼─────────────────┤\n",
              "│ dense_1 (<span style=\"color: #0087ff; text-decoration-color: #0087ff\">Dense</span>)                      │ (<span style=\"color: #00d7ff; text-decoration-color: #00d7ff\">None</span>, <span style=\"color: #00af00; text-decoration-color: #00af00\">100</span>)                 │          <span style=\"color: #00af00; text-decoration-color: #00af00\">25,700</span> │\n",
              "└──────────────────────────────────────┴─────────────────────────────┴─────────────────┘\n",
              "</pre>\n"
            ]
          },
          "metadata": {}
        },
        {
          "output_type": "display_data",
          "data": {
            "text/plain": [
              "\u001b[1m Total params: \u001b[0m\u001b[38;5;34m644,388\u001b[0m (2.46 MB)\n"
            ],
            "text/html": [
              "<pre style=\"white-space:pre;overflow-x:auto;line-height:normal;font-family:Menlo,'DejaVu Sans Mono',consolas,'Courier New',monospace\"><span style=\"font-weight: bold\"> Total params: </span><span style=\"color: #00af00; text-decoration-color: #00af00\">644,388</span> (2.46 MB)\n",
              "</pre>\n"
            ]
          },
          "metadata": {}
        },
        {
          "output_type": "display_data",
          "data": {
            "text/plain": [
              "\u001b[1m Trainable params: \u001b[0m\u001b[38;5;34m643,940\u001b[0m (2.46 MB)\n"
            ],
            "text/html": [
              "<pre style=\"white-space:pre;overflow-x:auto;line-height:normal;font-family:Menlo,'DejaVu Sans Mono',consolas,'Courier New',monospace\"><span style=\"font-weight: bold\"> Trainable params: </span><span style=\"color: #00af00; text-decoration-color: #00af00\">643,940</span> (2.46 MB)\n",
              "</pre>\n"
            ]
          },
          "metadata": {}
        },
        {
          "output_type": "display_data",
          "data": {
            "text/plain": [
              "\u001b[1m Non-trainable params: \u001b[0m\u001b[38;5;34m448\u001b[0m (1.75 KB)\n"
            ],
            "text/html": [
              "<pre style=\"white-space:pre;overflow-x:auto;line-height:normal;font-family:Menlo,'DejaVu Sans Mono',consolas,'Courier New',monospace\"><span style=\"font-weight: bold\"> Non-trainable params: </span><span style=\"color: #00af00; text-decoration-color: #00af00\">448</span> (1.75 KB)\n",
              "</pre>\n"
            ]
          },
          "metadata": {}
        }
      ]
    },
    {
      "cell_type": "markdown",
      "id": "546324c007c73db5",
      "metadata": {
        "collapsed": false,
        "id": "546324c007c73db5"
      },
      "source": [
        "### Task 2b: Compile the model\n",
        "\n",
        "- Select an appropriate loss function and optimizer for your model. These can be ones we have looked at already, or they can be different.\n",
        "- Briefly explain your choices (one or two sentences each).\n",
        "- <b>Loss function:</b> ______\n",
        "- <b>Optimizer:</b> ______"
      ]
    },
    {
      "cell_type": "code",
      "execution_count": 7,
      "id": "ab39f4ba69d684e9",
      "metadata": {
        "id": "ab39f4ba69d684e9"
      },
      "outputs": [],
      "source": [
        "# Your Code Here\n",
        "\n",
        "# Compile the model\n",
        "model.compile(optimizer='adam', loss='categorical_crossentropy', metrics=['accuracy'])\n"
      ]
    },
    {
      "cell_type": "markdown",
      "id": "653fba928413b9f6",
      "metadata": {
        "collapsed": false,
        "id": "653fba928413b9f6"
      },
      "source": [
        "## Task 3: Model Training and Evaluation (Complete or Incomplete)\n",
        "### Task 3a: Train the Model\n",
        "\n",
        "- Train your model for an appropriate number of epochs. Explain your choice of the number of epochs used - you can change this number before submitting your assignment.\n",
        "- Use a batch size of 32.\n",
        "- Use the validation set for validation."
      ]
    },
    {
      "cell_type": "markdown",
      "source": [
        "I chose 25 epochs to start with because I believe it to be a reasonable starting place. I may have to increase it based on the trends observed. I didn't want to start too high in case the model doesn't learn enough features and train well enough. I edited this after 25 to 50 and it ended up being worse in terms of accuracy so I've reverted to 25."
      ],
      "metadata": {
        "id": "8Nh3Pzdh4uFL"
      },
      "id": "8Nh3Pzdh4uFL"
    },
    {
      "cell_type": "code",
      "execution_count": 8,
      "id": "9de74f274ad08546",
      "metadata": {
        "colab": {
          "base_uri": "https://localhost:8080/"
        },
        "id": "9de74f274ad08546",
        "outputId": "927596d8-dc4e-4c36-f334-3aee1f8a91d6"
      },
      "outputs": [
        {
          "output_type": "stream",
          "name": "stdout",
          "text": [
            "Epoch 1/25\n",
            "\u001b[1m1250/1250\u001b[0m \u001b[32m━━━━━━━━━━━━━━━━━━━━\u001b[0m\u001b[37m\u001b[0m \u001b[1m20s\u001b[0m 6ms/step - accuracy: 0.0209 - loss: 4.6492 - val_accuracy: 0.0393 - val_loss: 6.3927\n",
            "Epoch 2/25\n",
            "\u001b[1m1250/1250\u001b[0m \u001b[32m━━━━━━━━━━━━━━━━━━━━\u001b[0m\u001b[37m\u001b[0m \u001b[1m5s\u001b[0m 4ms/step - accuracy: 0.0428 - loss: 4.3061 - val_accuracy: 0.0428 - val_loss: 15.3301\n",
            "Epoch 3/25\n",
            "\u001b[1m1250/1250\u001b[0m \u001b[32m━━━━━━━━━━━━━━━━━━━━\u001b[0m\u001b[37m\u001b[0m \u001b[1m12s\u001b[0m 5ms/step - accuracy: 0.0589 - loss: 4.1454 - val_accuracy: 0.0430 - val_loss: 13.3511\n",
            "Epoch 4/25\n",
            "\u001b[1m1250/1250\u001b[0m \u001b[32m━━━━━━━━━━━━━━━━━━━━\u001b[0m\u001b[37m\u001b[0m \u001b[1m6s\u001b[0m 5ms/step - accuracy: 0.0793 - loss: 4.0051 - val_accuracy: 0.0470 - val_loss: 15.4540\n",
            "Epoch 5/25\n",
            "\u001b[1m1250/1250\u001b[0m \u001b[32m━━━━━━━━━━━━━━━━━━━━\u001b[0m\u001b[37m\u001b[0m \u001b[1m6s\u001b[0m 5ms/step - accuracy: 0.0910 - loss: 3.8832 - val_accuracy: 0.0672 - val_loss: 10.5789\n",
            "Epoch 6/25\n",
            "\u001b[1m1250/1250\u001b[0m \u001b[32m━━━━━━━━━━━━━━━━━━━━\u001b[0m\u001b[37m\u001b[0m \u001b[1m6s\u001b[0m 5ms/step - accuracy: 0.1157 - loss: 3.7602 - val_accuracy: 0.0779 - val_loss: 11.3109\n",
            "Epoch 7/25\n",
            "\u001b[1m1250/1250\u001b[0m \u001b[32m━━━━━━━━━━━━━━━━━━━━\u001b[0m\u001b[37m\u001b[0m \u001b[1m6s\u001b[0m 5ms/step - accuracy: 0.1349 - loss: 3.6538 - val_accuracy: 0.0921 - val_loss: 10.9172\n",
            "Epoch 8/25\n",
            "\u001b[1m1250/1250\u001b[0m \u001b[32m━━━━━━━━━━━━━━━━━━━━\u001b[0m\u001b[37m\u001b[0m \u001b[1m6s\u001b[0m 5ms/step - accuracy: 0.1604 - loss: 3.5145 - val_accuracy: 0.0967 - val_loss: 11.0210\n",
            "Epoch 9/25\n",
            "\u001b[1m1250/1250\u001b[0m \u001b[32m━━━━━━━━━━━━━━━━━━━━\u001b[0m\u001b[37m\u001b[0m \u001b[1m6s\u001b[0m 5ms/step - accuracy: 0.1826 - loss: 3.3817 - val_accuracy: 0.1162 - val_loss: 9.4042\n",
            "Epoch 10/25\n",
            "\u001b[1m1250/1250\u001b[0m \u001b[32m━━━━━━━━━━━━━━━━━━━━\u001b[0m\u001b[37m\u001b[0m \u001b[1m6s\u001b[0m 5ms/step - accuracy: 0.2052 - loss: 3.2293 - val_accuracy: 0.1749 - val_loss: 5.7420\n",
            "Epoch 11/25\n",
            "\u001b[1m1250/1250\u001b[0m \u001b[32m━━━━━━━━━━━━━━━━━━━━\u001b[0m\u001b[37m\u001b[0m \u001b[1m6s\u001b[0m 5ms/step - accuracy: 0.2315 - loss: 3.1121 - val_accuracy: 0.0989 - val_loss: 9.9571\n",
            "Epoch 12/25\n",
            "\u001b[1m1250/1250\u001b[0m \u001b[32m━━━━━━━━━━━━━━━━━━━━\u001b[0m\u001b[37m\u001b[0m \u001b[1m6s\u001b[0m 5ms/step - accuracy: 0.2545 - loss: 2.9975 - val_accuracy: 0.1522 - val_loss: 7.5150\n",
            "Epoch 13/25\n",
            "\u001b[1m1250/1250\u001b[0m \u001b[32m━━━━━━━━━━━━━━━━━━━━\u001b[0m\u001b[37m\u001b[0m \u001b[1m6s\u001b[0m 4ms/step - accuracy: 0.2762 - loss: 2.8760 - val_accuracy: 0.1242 - val_loss: 10.7027\n",
            "Epoch 14/25\n",
            "\u001b[1m1250/1250\u001b[0m \u001b[32m━━━━━━━━━━━━━━━━━━━━\u001b[0m\u001b[37m\u001b[0m \u001b[1m6s\u001b[0m 5ms/step - accuracy: 0.2935 - loss: 2.7609 - val_accuracy: 0.1393 - val_loss: 9.2197\n",
            "Epoch 15/25\n",
            "\u001b[1m1250/1250\u001b[0m \u001b[32m━━━━━━━━━━━━━━━━━━━━\u001b[0m\u001b[37m\u001b[0m \u001b[1m10s\u001b[0m 5ms/step - accuracy: 0.3148 - loss: 2.6667 - val_accuracy: 0.1225 - val_loss: 9.9366\n",
            "Epoch 16/25\n",
            "\u001b[1m1250/1250\u001b[0m \u001b[32m━━━━━━━━━━━━━━━━━━━━\u001b[0m\u001b[37m\u001b[0m \u001b[1m10s\u001b[0m 4ms/step - accuracy: 0.3294 - loss: 2.5842 - val_accuracy: 0.1672 - val_loss: 7.4010\n",
            "Epoch 17/25\n",
            "\u001b[1m1250/1250\u001b[0m \u001b[32m━━━━━━━━━━━━━━━━━━━━\u001b[0m\u001b[37m\u001b[0m \u001b[1m6s\u001b[0m 5ms/step - accuracy: 0.3479 - loss: 2.5093 - val_accuracy: 0.1845 - val_loss: 6.6823\n",
            "Epoch 18/25\n",
            "\u001b[1m1250/1250\u001b[0m \u001b[32m━━━━━━━━━━━━━━━━━━━━\u001b[0m\u001b[37m\u001b[0m \u001b[1m6s\u001b[0m 5ms/step - accuracy: 0.3606 - loss: 2.4256 - val_accuracy: 0.1923 - val_loss: 6.6145\n",
            "Epoch 19/25\n",
            "\u001b[1m1250/1250\u001b[0m \u001b[32m━━━━━━━━━━━━━━━━━━━━\u001b[0m\u001b[37m\u001b[0m \u001b[1m10s\u001b[0m 5ms/step - accuracy: 0.3771 - loss: 2.3562 - val_accuracy: 0.2163 - val_loss: 5.6179\n",
            "Epoch 20/25\n",
            "\u001b[1m1250/1250\u001b[0m \u001b[32m━━━━━━━━━━━━━━━━━━━━\u001b[0m\u001b[37m\u001b[0m \u001b[1m10s\u001b[0m 5ms/step - accuracy: 0.3845 - loss: 2.3215 - val_accuracy: 0.3048 - val_loss: 3.6751\n",
            "Epoch 21/25\n",
            "\u001b[1m1250/1250\u001b[0m \u001b[32m━━━━━━━━━━━━━━━━━━━━\u001b[0m\u001b[37m\u001b[0m \u001b[1m10s\u001b[0m 5ms/step - accuracy: 0.3933 - loss: 2.2794 - val_accuracy: 0.2962 - val_loss: 4.0171\n",
            "Epoch 22/25\n",
            "\u001b[1m1250/1250\u001b[0m \u001b[32m━━━━━━━━━━━━━━━━━━━━\u001b[0m\u001b[37m\u001b[0m \u001b[1m5s\u001b[0m 4ms/step - accuracy: 0.4080 - loss: 2.2242 - val_accuracy: 0.3339 - val_loss: 3.4575\n",
            "Epoch 23/25\n",
            "\u001b[1m1250/1250\u001b[0m \u001b[32m━━━━━━━━━━━━━━━━━━━━\u001b[0m\u001b[37m\u001b[0m \u001b[1m6s\u001b[0m 5ms/step - accuracy: 0.4051 - loss: 2.2013 - val_accuracy: 0.2802 - val_loss: 4.1418\n",
            "Epoch 24/25\n",
            "\u001b[1m1250/1250\u001b[0m \u001b[32m━━━━━━━━━━━━━━━━━━━━\u001b[0m\u001b[37m\u001b[0m \u001b[1m5s\u001b[0m 4ms/step - accuracy: 0.4221 - loss: 2.1458 - val_accuracy: 0.3021 - val_loss: 3.9599\n",
            "Epoch 25/25\n",
            "\u001b[1m1250/1250\u001b[0m \u001b[32m━━━━━━━━━━━━━━━━━━━━\u001b[0m\u001b[37m\u001b[0m \u001b[1m7s\u001b[0m 5ms/step - accuracy: 0.4318 - loss: 2.1095 - val_accuracy: 0.3436 - val_loss: 3.2720\n"
          ]
        }
      ],
      "source": [
        "# Your Code Here\n",
        "\n",
        "# Train the model\n",
        "history = model.fit(\n",
        "    x_train, y_train,\n",
        "    epochs=25, batch_size=32,\n",
        "    validation_data=(x_val, y_val)\n",
        ")\n"
      ]
    },
    {
      "cell_type": "markdown",
      "source": [
        "I observe that the validation accuracy is decreasing at epoch 23 which it means the model is now being over fitted and will not be able to handle new data well. Validation loss is also increasing at this point which further confirm this. To prevent overfitting included a dropout rate during training to temporarily remove a set of neurons in the network for a better result."
      ],
      "metadata": {
        "id": "s7nDF1o-QcGz"
      },
      "id": "s7nDF1o-QcGz"
    },
    {
      "cell_type": "markdown",
      "id": "b48615c26b99d2e9",
      "metadata": {
        "collapsed": false,
        "id": "b48615c26b99d2e9"
      },
      "source": [
        "### Task 3b: Accuracy and other relevant metrics on the test set\n",
        "\n",
        "- Report the accuracy of your model on the test set.\n",
        "- While accuracy is a good metric, there are many other ways to numerically evaluate a model. Report at least one other metric, and explain what it measures and how it is calculated.\n",
        "\n",
        "- <b>Accuracy:</b> ______\n",
        "- <b>Other metric:</b> ______\n",
        "- <b>Reason for selection:</b> _____\n",
        "- <b>Value of metric:</b> ______\n",
        "- <b>Interpretation of metric value:</b> ______"
      ]
    },
    {
      "cell_type": "code",
      "execution_count": 9,
      "id": "f670665fda92fb0e",
      "metadata": {
        "ExecuteTime": {
          "end_time": "2024-01-26T17:49:39.016880Z",
          "start_time": "2024-01-26T17:49:39.012100Z"
        },
        "colab": {
          "base_uri": "https://localhost:8080/"
        },
        "id": "f670665fda92fb0e",
        "outputId": "10a32eb3-2218-4a8f-f73a-88bfc44d45a5"
      },
      "outputs": [
        {
          "output_type": "stream",
          "name": "stdout",
          "text": [
            "\u001b[1m313/313\u001b[0m \u001b[32m━━━━━━━━━━━━━━━━━━━━\u001b[0m\u001b[37m\u001b[0m \u001b[1m1s\u001b[0m 3ms/step - accuracy: 0.3494 - loss: 3.2188\n",
            "Test Accuracy: 0.3492\n",
            "\u001b[1m313/313\u001b[0m \u001b[32m━━━━━━━━━━━━━━━━━━━━\u001b[0m\u001b[37m\u001b[0m \u001b[1m5s\u001b[0m 10ms/step\n",
            "              precision    recall  f1-score   support\n",
            "\n",
            "           0       0.73      0.72      0.73       100\n",
            "           1       0.47      0.27      0.34       100\n",
            "           2       0.48      0.13      0.20       100\n",
            "           3       0.18      0.22      0.20       100\n",
            "           4       0.12      0.07      0.09       100\n",
            "           5       0.38      0.26      0.31       100\n",
            "           6       0.48      0.21      0.29       100\n",
            "           7       0.29      0.55      0.38       100\n",
            "           8       0.51      0.61      0.56       100\n",
            "           9       0.73      0.41      0.53       100\n",
            "          10       0.31      0.17      0.22       100\n",
            "          11       0.80      0.08      0.15       100\n",
            "          12       0.50      0.33      0.40       100\n",
            "          13       0.60      0.09      0.16       100\n",
            "          14       0.62      0.08      0.14       100\n",
            "          15       0.38      0.18      0.24       100\n",
            "          16       0.60      0.30      0.40       100\n",
            "          17       0.52      0.55      0.53       100\n",
            "          18       0.27      0.18      0.22       100\n",
            "          19       0.50      0.19      0.28       100\n",
            "          20       0.73      0.66      0.69       100\n",
            "          21       0.51      0.44      0.47       100\n",
            "          22       0.40      0.22      0.28       100\n",
            "          23       0.23      0.82      0.36       100\n",
            "          24       0.43      0.54      0.48       100\n",
            "          25       0.32      0.28      0.30       100\n",
            "          26       0.40      0.33      0.36       100\n",
            "          27       0.15      0.35      0.21       100\n",
            "          28       0.65      0.58      0.61       100\n",
            "          29       0.61      0.23      0.33       100\n",
            "          30       0.38      0.48      0.42       100\n",
            "          31       0.29      0.46      0.35       100\n",
            "          32       0.59      0.16      0.25       100\n",
            "          33       0.10      0.89      0.18       100\n",
            "          34       0.47      0.15      0.23       100\n",
            "          35       0.24      0.04      0.07       100\n",
            "          36       0.42      0.19      0.26       100\n",
            "          37       0.54      0.19      0.28       100\n",
            "          38       0.18      0.38      0.24       100\n",
            "          39       0.51      0.37      0.43       100\n",
            "          40       0.68      0.23      0.34       100\n",
            "          41       0.85      0.52      0.65       100\n",
            "          42       0.19      0.57      0.28       100\n",
            "          43       0.29      0.22      0.25       100\n",
            "          44       0.17      0.12      0.14       100\n",
            "          45       0.16      0.13      0.14       100\n",
            "          46       0.37      0.16      0.22       100\n",
            "          47       0.53      0.26      0.35       100\n",
            "          48       0.88      0.52      0.65       100\n",
            "          49       0.48      0.43      0.45       100\n",
            "          50       0.16      0.14      0.15       100\n",
            "          51       0.50      0.15      0.23       100\n",
            "          52       0.60      0.30      0.40       100\n",
            "          53       0.74      0.39      0.51       100\n",
            "          54       0.58      0.37      0.45       100\n",
            "          55       0.10      0.09      0.09       100\n",
            "          56       0.91      0.29      0.44       100\n",
            "          57       0.78      0.32      0.45       100\n",
            "          58       0.56      0.32      0.41       100\n",
            "          59       0.34      0.45      0.39       100\n",
            "          60       0.56      0.83      0.67       100\n",
            "          61       0.52      0.45      0.48       100\n",
            "          62       0.58      0.28      0.38       100\n",
            "          63       0.37      0.36      0.37       100\n",
            "          64       0.14      0.16      0.15       100\n",
            "          65       0.13      0.24      0.17       100\n",
            "          66       0.23      0.44      0.31       100\n",
            "          67       0.25      0.40      0.31       100\n",
            "          68       0.84      0.59      0.69       100\n",
            "          69       0.59      0.61      0.60       100\n",
            "          70       0.50      0.47      0.48       100\n",
            "          71       0.46      0.42      0.44       100\n",
            "          72       0.14      0.14      0.14       100\n",
            "          73       0.36      0.38      0.37       100\n",
            "          74       0.17      0.32      0.22       100\n",
            "          75       0.75      0.59      0.66       100\n",
            "          76       0.67      0.72      0.70       100\n",
            "          77       0.34      0.14      0.20       100\n",
            "          78       0.17      0.21      0.19       100\n",
            "          79       0.16      0.70      0.26       100\n",
            "          80       0.13      0.17      0.15       100\n",
            "          81       0.42      0.43      0.42       100\n",
            "          82       0.75      0.69      0.72       100\n",
            "          83       0.53      0.23      0.32       100\n",
            "          84       0.46      0.18      0.26       100\n",
            "          85       0.38      0.66      0.48       100\n",
            "          86       0.86      0.38      0.53       100\n",
            "          87       0.56      0.38      0.45       100\n",
            "          88       0.39      0.22      0.28       100\n",
            "          89       0.45      0.41      0.43       100\n",
            "          90       0.51      0.26      0.34       100\n",
            "          91       0.60      0.58      0.59       100\n",
            "          92       0.49      0.17      0.25       100\n",
            "          93       0.25      0.08      0.12       100\n",
            "          94       0.48      0.83      0.61       100\n",
            "          95       0.72      0.23      0.35       100\n",
            "          96       0.23      0.52      0.32       100\n",
            "          97       0.44      0.23      0.30       100\n",
            "          98       0.09      0.01      0.02       100\n",
            "          99       0.24      0.47      0.32       100\n",
            "\n",
            "    accuracy                           0.35     10000\n",
            "   macro avg       0.44      0.35      0.35     10000\n",
            "weighted avg       0.44      0.35      0.35     10000\n",
            "\n"
          ]
        }
      ],
      "source": [
        "# Your Code Here\n",
        "\n",
        "from sklearn.metrics import classification_report\n",
        "\n",
        "# Evaluate the model on test set\n",
        "test_loss, test_acc = model.evaluate(x_test, y_test)\n",
        "print(f\"Test Accuracy: {test_acc:.4f}\")\n",
        "\n",
        "# Get predictions and report precision, recall, f1-score\n",
        "y_pred = model.predict(x_test)\n",
        "y_pred_classes = np.argmax(y_pred, axis=1)\n",
        "y_true_classes = np.argmax(y_test, axis=1)\n",
        "\n",
        "# Classification report\n",
        "report = classification_report(y_true_classes, y_pred_classes)\n",
        "print(report)\n"
      ]
    },
    {
      "cell_type": "code",
      "source": [
        "# Get actual labels (ensure it's in the right shape)\n",
        "y_true_labels = np.argmax(y_test, axis=1)\n",
        "\n",
        "# Find misclassified indices\n",
        "misclassified_indices = np.where(y_pred_classes != y_true_labels)[0]\n",
        "\n",
        "print(f\"Number of misclassified images: {len(misclassified_indices)}\")"
      ],
      "metadata": {
        "colab": {
          "base_uri": "https://localhost:8080/"
        },
        "id": "AIKUIj1uTzzm",
        "outputId": "de5fc763-b36e-438b-b3d6-7d3ad1f188d9"
      },
      "id": "AIKUIj1uTzzm",
      "execution_count": 10,
      "outputs": [
        {
          "output_type": "stream",
          "name": "stdout",
          "text": [
            "Number of misclassified images: 6508\n"
          ]
        }
      ]
    },
    {
      "cell_type": "code",
      "source": [
        "import matplotlib.pyplot as plt\n",
        "\n",
        "# Select the first misclassified image\n",
        "idx = misclassified_indices[0]\n",
        "\n",
        "# Get the image and its true/predicted labels\n",
        "image = x_test[idx]\n",
        "true_label = class_names[y_true_labels[idx]]\n",
        "predicted_label = class_names[y_pred_classes[idx]] # Changed from y_pred_labels to y_pred_classes\n",
        "\n",
        "# Plot the image\n",
        "plt.imshow(image)\n",
        "plt.title(f\"True: {true_label} | Predicted: {predicted_label}\")\n",
        "plt.axis(\"off\")\n",
        "plt.show()"
      ],
      "metadata": {
        "colab": {
          "base_uri": "https://localhost:8080/",
          "height": 428
        },
        "id": "GGSluakJT8WI",
        "outputId": "59d24b25-e9e2-485a-a118-6dc150458a62"
      },
      "id": "GGSluakJT8WI",
      "execution_count": 11,
      "outputs": [
        {
          "output_type": "display_data",
          "data": {
            "text/plain": [
              "<Figure size 640x480 with 1 Axes>"
            ],
            "image/png": "[encoded data removed]"
          },
          "metadata": {}
        }
      ]
    },
    {
      "cell_type": "code",
      "source": [
        "# Get probabilities for this image\n",
        "y_pred_probs = model.predict(x_test)\n",
        "probs = y_pred_probs[idx]\n",
        "\n",
        "# Print top 5 most confident predictions\n",
        "top_5_indices = np.argsort(probs)[-5:][::-1]  # Get indices of top 5 predictions\n",
        "top_5_labels = [class_names[i] for i in top_5_indices]\n",
        "top_5_probs = probs[top_5_indices]\n",
        "\n",
        "print(\"Top 5 Predictions:\")\n",
        "for label, prob in zip(top_5_labels, top_5_probs):\n",
        "    print(f\"{label}: {prob:.4f}\")"
      ],
      "metadata": {
        "colab": {
          "base_uri": "https://localhost:8080/"
        },
        "id": "yWW4n_qJUGtF",
        "outputId": "5b633b71-9fac-4a46-cde2-0ee0fb26a07b"
      },
      "id": "yWW4n_qJUGtF",
      "execution_count": 12,
      "outputs": [
        {
          "output_type": "stream",
          "name": "stdout",
          "text": [
            "\u001b[1m313/313\u001b[0m \u001b[32m━━━━━━━━━━━━━━━━━━━━\u001b[0m\u001b[37m\u001b[0m \u001b[1m1s\u001b[0m 2ms/step\n",
            "Top 5 Predictions:\n",
            "dolphin: 0.3427\n",
            "cloud: 0.1758\n",
            "road: 0.0867\n",
            "spider: 0.0797\n",
            "skyscraper: 0.0553\n"
          ]
        }
      ]
    },
    {
      "cell_type": "markdown",
      "id": "58d2d836d4e8ce99",
      "metadata": {
        "collapsed": false,
        "id": "58d2d836d4e8ce99"
      },
      "source": [
        "### Task 3c: Visualize the model's learning\n",
        "\n",
        "- Plot the training accuracy and validation accuracy with respect to epochs.\n",
        "- Select an image that the model correctly classified in the test set, and an image that the model incorrectly classified in the test set. Plot the images and report the model's classification probabilities for each.\n",
        "- Briefly discuss the results. What do the plots show? Do the results make sense? What do the classification probabilities indicate?"
      ]
    },
    {
      "cell_type": "markdown",
      "source": [
        "The plots show divergence when it should be showing convergence of the results. It shows that the model's training accuracy is increasing and in fact much more accurate than the testing accuracy."
      ],
      "metadata": {
        "id": "dcCqy7jPCvA9"
      },
      "id": "dcCqy7jPCvA9"
    },
    {
      "cell_type": "code",
      "execution_count": 13,
      "id": "c5b214475a496ca5",
      "metadata": {
        "ExecuteTime": {
          "end_time": "2024-01-26T17:50:59.733968Z",
          "start_time": "2024-01-26T17:50:59.730635Z"
        },
        "colab": {
          "base_uri": "https://localhost:8080/",
          "height": 449
        },
        "id": "c5b214475a496ca5",
        "outputId": "f68dca19-ef0f-4e36-c6c5-bca79710fe8a"
      },
      "outputs": [
        {
          "output_type": "display_data",
          "data": {
            "text/plain": [
              "<Figure size 640x480 with 1 Axes>"
            ],
            "image/png": "[encoded data removed]"
          },
          "metadata": {}
        }
      ],
      "source": [
        "# Your Code Here\n",
        "\n",
        "import matplotlib.pyplot as plt\n",
        "\n",
        "# Plot accuracy over epochs\n",
        "plt.plot(history.history['accuracy'], label='Train Accuracy')\n",
        "plt.plot(history.history['val_accuracy'], label='Test Accuracy')\n",
        "plt.xlabel('Epochs')\n",
        "plt.ylabel('Accuracy')\n",
        "plt.legend()\n",
        "plt.show()\n"
      ]
    },
    {
      "cell_type": "markdown",
      "id": "a648758ebea0561d",
      "metadata": {
        "collapsed": false,
        "id": "a648758ebea0561d"
      },
      "source": [
        "## Task 4: Model Enhancement (Complete or Incomplete)\n",
        "### Task 4a: Implementation of at least one advanced technique\n",
        "\n",
        "- Now it's time to improve your model. Implement at least one technique to improve your model's performance. You can use any of the techniques we have covered in class, or you can use a technique that we haven't covered. If you need inspiration, you can refer to the [Keras documentation](https://keras.io/).\n",
        "- Explain the technique you used and why you chose it.\n",
        "- If you used a technique that requires tuning, explain how you selected the values for the hyperparameters."
      ]
    },
    {
      "cell_type": "markdown",
      "source": [
        "The advanced technique I chose was Data Augmentation to help the model generalize better by flipping, rotating, and zooming to allow the model familiarize itself with different aspects of the images in the dataset."
      ],
      "metadata": {
        "id": "4zrEsdgk8REp"
      },
      "id": "4zrEsdgk8REp"
    },
    {
      "cell_type": "code",
      "execution_count": 14,
      "id": "f3659ac83122567f",
      "metadata": {
        "colab": {
          "base_uri": "https://localhost:8080/"
        },
        "id": "f3659ac83122567f",
        "outputId": "161a94fc-26c3-4a7d-d625-455ff17d7614"
      },
      "outputs": [
        {
          "output_type": "stream",
          "name": "stdout",
          "text": [
            "Epoch 1/25\n"
          ]
        },
        {
          "output_type": "stream",
          "name": "stderr",
          "text": [
            "/usr/local/lib/python3.11/dist-packages/keras/src/trainers/data_adapters/py_dataset_adapter.py:121: UserWarning: Your `PyDataset` class should call `super().__init__(**kwargs)` in its constructor. `**kwargs` can include `workers`, `use_multiprocessing`, `max_queue_size`. Do not pass these arguments to `fit()`, as they will be ignored.\n",
            "  self._warn_if_super_not_called()\n"
          ]
        },
        {
          "output_type": "stream",
          "name": "stdout",
          "text": [
            "\u001b[1m1250/1250\u001b[0m \u001b[32m━━━━━━━━━━━━━━━━━━━━\u001b[0m\u001b[37m\u001b[0m \u001b[1m35s\u001b[0m 22ms/step - accuracy: 0.3330 - loss: 2.6169 - val_accuracy: 0.2517 - val_loss: 4.3468\n",
            "Epoch 2/25\n",
            "\u001b[1m1250/1250\u001b[0m \u001b[32m━━━━━━━━━━━━━━━━━━━━\u001b[0m\u001b[37m\u001b[0m \u001b[1m27s\u001b[0m 22ms/step - accuracy: 0.3431 - loss: 2.5377 - val_accuracy: 0.3591 - val_loss: 2.9832\n",
            "Epoch 3/25\n",
            "\u001b[1m1250/1250\u001b[0m \u001b[32m━━━━━━━━━━━━━━━━━━━━\u001b[0m\u001b[37m\u001b[0m \u001b[1m28s\u001b[0m 23ms/step - accuracy: 0.3542 - loss: 2.4956 - val_accuracy: 0.2869 - val_loss: 3.7967\n",
            "Epoch 4/25\n",
            "\u001b[1m1250/1250\u001b[0m \u001b[32m━━━━━━━━━━━━━━━━━━━━\u001b[0m\u001b[37m\u001b[0m \u001b[1m40s\u001b[0m 22ms/step - accuracy: 0.3593 - loss: 2.4751 - val_accuracy: 0.2467 - val_loss: 4.2066\n",
            "Epoch 5/25\n",
            "\u001b[1m1250/1250\u001b[0m \u001b[32m━━━━━━━━━━━━━━━━━━━━\u001b[0m\u001b[37m\u001b[0m \u001b[1m27s\u001b[0m 22ms/step - accuracy: 0.3664 - loss: 2.4376 - val_accuracy: 0.2793 - val_loss: 3.9640\n",
            "Epoch 6/25\n",
            "\u001b[1m1250/1250\u001b[0m \u001b[32m━━━━━━━━━━━━━━━━━━━━\u001b[0m\u001b[37m\u001b[0m \u001b[1m27s\u001b[0m 22ms/step - accuracy: 0.3637 - loss: 2.4292 - val_accuracy: 0.3383 - val_loss: 3.2040\n",
            "Epoch 7/25\n",
            "\u001b[1m1250/1250\u001b[0m \u001b[32m━━━━━━━━━━━━━━━━━━━━\u001b[0m\u001b[37m\u001b[0m \u001b[1m27s\u001b[0m 22ms/step - accuracy: 0.3696 - loss: 2.4192 - val_accuracy: 0.4012 - val_loss: 2.5164\n",
            "Epoch 8/25\n",
            "\u001b[1m1250/1250\u001b[0m \u001b[32m━━━━━━━━━━━━━━━━━━━━\u001b[0m\u001b[37m\u001b[0m \u001b[1m27s\u001b[0m 22ms/step - accuracy: 0.3775 - loss: 2.3704 - val_accuracy: 0.3229 - val_loss: 3.2443\n",
            "Epoch 9/25\n",
            "\u001b[1m1250/1250\u001b[0m \u001b[32m━━━━━━━━━━━━━━━━━━━━\u001b[0m\u001b[37m\u001b[0m \u001b[1m27s\u001b[0m 22ms/step - accuracy: 0.3846 - loss: 2.3445 - val_accuracy: 0.1941 - val_loss: 5.0035\n",
            "Epoch 10/25\n",
            "\u001b[1m1250/1250\u001b[0m \u001b[32m━━━━━━━━━━━━━━━━━━━━\u001b[0m\u001b[37m\u001b[0m \u001b[1m26s\u001b[0m 21ms/step - accuracy: 0.3855 - loss: 2.3512 - val_accuracy: 0.3012 - val_loss: 3.6401\n",
            "Epoch 11/25\n",
            "\u001b[1m1250/1250\u001b[0m \u001b[32m━━━━━━━━━━━━━━━━━━━━\u001b[0m\u001b[37m\u001b[0m \u001b[1m27s\u001b[0m 22ms/step - accuracy: 0.3808 - loss: 2.3487 - val_accuracy: 0.3471 - val_loss: 3.1656\n",
            "Epoch 12/25\n",
            "\u001b[1m1250/1250\u001b[0m \u001b[32m━━━━━━━━━━━━━━━━━━━━\u001b[0m\u001b[37m\u001b[0m \u001b[1m27s\u001b[0m 22ms/step - accuracy: 0.3836 - loss: 2.3399 - val_accuracy: 0.4088 - val_loss: 2.4984\n",
            "Epoch 13/25\n",
            "\u001b[1m1250/1250\u001b[0m \u001b[32m━━━━━━━━━━━━━━━━━━━━\u001b[0m\u001b[37m\u001b[0m \u001b[1m28s\u001b[0m 22ms/step - accuracy: 0.4004 - loss: 2.2804 - val_accuracy: 0.3371 - val_loss: 3.2062\n",
            "Epoch 14/25\n",
            "\u001b[1m1250/1250\u001b[0m \u001b[32m━━━━━━━━━━━━━━━━━━━━\u001b[0m\u001b[37m\u001b[0m \u001b[1m40s\u001b[0m 21ms/step - accuracy: 0.3926 - loss: 2.3001 - val_accuracy: 0.3136 - val_loss: 3.5614\n",
            "Epoch 15/25\n",
            "\u001b[1m1250/1250\u001b[0m \u001b[32m━━━━━━━━━━━━━━━━━━━━\u001b[0m\u001b[37m\u001b[0m \u001b[1m27s\u001b[0m 21ms/step - accuracy: 0.3952 - loss: 2.3072 - val_accuracy: 0.3345 - val_loss: 3.2610\n",
            "Epoch 16/25\n",
            "\u001b[1m1250/1250\u001b[0m \u001b[32m━━━━━━━━━━━━━━━━━━━━\u001b[0m\u001b[37m\u001b[0m \u001b[1m27s\u001b[0m 22ms/step - accuracy: 0.3972 - loss: 2.2645 - val_accuracy: 0.3565 - val_loss: 3.1811\n",
            "Epoch 17/25\n",
            "\u001b[1m1250/1250\u001b[0m \u001b[32m━━━━━━━━━━━━━━━━━━━━\u001b[0m\u001b[37m\u001b[0m \u001b[1m26s\u001b[0m 21ms/step - accuracy: 0.4063 - loss: 2.2529 - val_accuracy: 0.3860 - val_loss: 2.7807\n",
            "Epoch 18/25\n",
            "\u001b[1m1250/1250\u001b[0m \u001b[32m━━━━━━━━━━━━━━━━━━━━\u001b[0m\u001b[37m\u001b[0m \u001b[1m41s\u001b[0m 22ms/step - accuracy: 0.4075 - loss: 2.2470 - val_accuracy: 0.3770 - val_loss: 2.8764\n",
            "Epoch 19/25\n",
            "\u001b[1m1250/1250\u001b[0m \u001b[32m━━━━━━━━━━━━━━━━━━━━\u001b[0m\u001b[37m\u001b[0m \u001b[1m26s\u001b[0m 21ms/step - accuracy: 0.4010 - loss: 2.2676 - val_accuracy: 0.3809 - val_loss: 2.7699\n",
            "Epoch 20/25\n",
            "\u001b[1m1250/1250\u001b[0m \u001b[32m━━━━━━━━━━━━━━━━━━━━\u001b[0m\u001b[37m\u001b[0m \u001b[1m26s\u001b[0m 21ms/step - accuracy: 0.4087 - loss: 2.2269 - val_accuracy: 0.3727 - val_loss: 3.0030\n",
            "Epoch 21/25\n",
            "\u001b[1m1250/1250\u001b[0m \u001b[32m━━━━━━━━━━━━━━━━━━━━\u001b[0m\u001b[37m\u001b[0m \u001b[1m43s\u001b[0m 22ms/step - accuracy: 0.4139 - loss: 2.2146 - val_accuracy: 0.3735 - val_loss: 2.8909\n",
            "Epoch 22/25\n",
            "\u001b[1m1250/1250\u001b[0m \u001b[32m━━━━━━━━━━━━━━━━━━━━\u001b[0m\u001b[37m\u001b[0m \u001b[1m26s\u001b[0m 21ms/step - accuracy: 0.4151 - loss: 2.2080 - val_accuracy: 0.4068 - val_loss: 2.6125\n",
            "Epoch 23/25\n",
            "\u001b[1m1250/1250\u001b[0m \u001b[32m━━━━━━━━━━━━━━━━━━━━\u001b[0m\u001b[37m\u001b[0m \u001b[1m27s\u001b[0m 22ms/step - accuracy: 0.4161 - loss: 2.1992 - val_accuracy: 0.3400 - val_loss: 3.3921\n",
            "Epoch 24/25\n",
            "\u001b[1m1250/1250\u001b[0m \u001b[32m━━━━━━━━━━━━━━━━━━━━\u001b[0m\u001b[37m\u001b[0m \u001b[1m27s\u001b[0m 21ms/step - accuracy: 0.4112 - loss: 2.2165 - val_accuracy: 0.3227 - val_loss: 3.4514\n",
            "Epoch 25/25\n",
            "\u001b[1m1250/1250\u001b[0m \u001b[32m━━━━━━━━━━━━━━━━━━━━\u001b[0m\u001b[37m\u001b[0m \u001b[1m26s\u001b[0m 21ms/step - accuracy: 0.4171 - loss: 2.1985 - val_accuracy: 0.4309 - val_loss: 2.3422\n"
          ]
        }
      ],
      "source": [
        "# Your Code Here\n",
        "\n",
        "from tensorflow.keras.preprocessing.image import ImageDataGenerator\n",
        "\n",
        "# Apply data augmentation and tune parameters\n",
        "datagen = ImageDataGenerator(\n",
        "    rotation_range=10,\n",
        "    width_shift_range=0.1,\n",
        "    height_shift_range=0.1,\n",
        "    horizontal_flip=True\n",
        ")\n",
        "\n",
        "# Train using augmented data\n",
        "train_generator = datagen.flow(x_train, y_train, batch_size=32)\n",
        "history_augmented = model.fit(train_generator, epochs=25, validation_data=(x_val, y_val))\n"
      ]
    },
    {
      "cell_type": "markdown",
      "id": "d9467a483a1dd5d3",
      "metadata": {
        "collapsed": false,
        "id": "d9467a483a1dd5d3"
      },
      "source": [
        "### Task 4b: Evaluation of the enhanced model\n",
        "\n",
        "- Re-train your model using the same number of epochs as before.\n",
        "- Compare the accuracy and other selected metric on the test set to the results you obtained before.\n",
        "- As before, plot the training accuracy and validation accuracy with respect to epochs, and select an image that the model correctly classified in the test set, and an image that the model incorrectly classified in the test set. Plot the images and report the model's classification probabilities for each."
      ]
    },
    {
      "cell_type": "code",
      "execution_count": 15,
      "id": "7c4701b36dc8fc55",
      "metadata": {
        "colab": {
          "base_uri": "https://localhost:8080/"
        },
        "id": "7c4701b36dc8fc55",
        "outputId": "d368c559-fdc9-41b8-a986-8d5b86d7ea53"
      },
      "outputs": [
        {
          "output_type": "stream",
          "name": "stdout",
          "text": [
            "Epoch 1/25\n",
            "\u001b[1m1250/1250\u001b[0m \u001b[32m━━━━━━━━━━━━━━━━━━━━\u001b[0m\u001b[37m\u001b[0m \u001b[1m7s\u001b[0m 6ms/step - accuracy: 0.4723 - loss: 1.9460 - val_accuracy: 0.3782 - val_loss: 3.0394\n",
            "Epoch 2/25\n",
            "\u001b[1m1250/1250\u001b[0m \u001b[32m━━━━━━━━━━━━━━━━━━━━\u001b[0m\u001b[37m\u001b[0m \u001b[1m6s\u001b[0m 5ms/step - accuracy: 0.4838 - loss: 1.8850 - val_accuracy: 0.4323 - val_loss: 2.4580\n",
            "Epoch 3/25\n",
            "\u001b[1m1250/1250\u001b[0m \u001b[32m━━━━━━━━━━━━━━━━━━━━\u001b[0m\u001b[37m\u001b[0m \u001b[1m10s\u001b[0m 5ms/step - accuracy: 0.4869 - loss: 1.8595 - val_accuracy: 0.4289 - val_loss: 2.5837\n",
            "Epoch 4/25\n",
            "\u001b[1m1250/1250\u001b[0m \u001b[32m━━━━━━━━━━━━━━━━━━━━\u001b[0m\u001b[37m\u001b[0m \u001b[1m6s\u001b[0m 5ms/step - accuracy: 0.4991 - loss: 1.8116 - val_accuracy: 0.4236 - val_loss: 2.4925\n",
            "Epoch 5/25\n",
            "\u001b[1m1250/1250\u001b[0m \u001b[32m━━━━━━━━━━━━━━━━━━━━\u001b[0m\u001b[37m\u001b[0m \u001b[1m11s\u001b[0m 5ms/step - accuracy: 0.4950 - loss: 1.7992 - val_accuracy: 0.4474 - val_loss: 2.3787\n",
            "Epoch 6/25\n",
            "\u001b[1m1250/1250\u001b[0m \u001b[32m━━━━━━━━━━━━━━━━━━━━\u001b[0m\u001b[37m\u001b[0m \u001b[1m10s\u001b[0m 5ms/step - accuracy: 0.5103 - loss: 1.7514 - val_accuracy: 0.4052 - val_loss: 2.7866\n",
            "Epoch 7/25\n",
            "\u001b[1m1250/1250\u001b[0m \u001b[32m━━━━━━━━━━━━━━━━━━━━\u001b[0m\u001b[37m\u001b[0m \u001b[1m6s\u001b[0m 5ms/step - accuracy: 0.5126 - loss: 1.7351 - val_accuracy: 0.4291 - val_loss: 2.5584\n",
            "Epoch 8/25\n",
            "\u001b[1m1250/1250\u001b[0m \u001b[32m━━━━━━━━━━━━━━━━━━━━\u001b[0m\u001b[37m\u001b[0m \u001b[1m6s\u001b[0m 5ms/step - accuracy: 0.5203 - loss: 1.7160 - val_accuracy: 0.4589 - val_loss: 2.2633\n",
            "Epoch 9/25\n",
            "\u001b[1m1250/1250\u001b[0m \u001b[32m━━━━━━━━━━━━━━━━━━━━\u001b[0m\u001b[37m\u001b[0m \u001b[1m6s\u001b[0m 5ms/step - accuracy: 0.5196 - loss: 1.7062 - val_accuracy: 0.4415 - val_loss: 2.5234\n",
            "Epoch 10/25\n",
            "\u001b[1m1250/1250\u001b[0m \u001b[32m━━━━━━━━━━━━━━━━━━━━\u001b[0m\u001b[37m\u001b[0m \u001b[1m10s\u001b[0m 5ms/step - accuracy: 0.5243 - loss: 1.6880 - val_accuracy: 0.4579 - val_loss: 2.3734\n",
            "Epoch 11/25\n",
            "\u001b[1m1250/1250\u001b[0m \u001b[32m━━━━━━━━━━━━━━━━━━━━\u001b[0m\u001b[37m\u001b[0m \u001b[1m6s\u001b[0m 5ms/step - accuracy: 0.5282 - loss: 1.6587 - val_accuracy: 0.4546 - val_loss: 2.2790\n",
            "Epoch 12/25\n",
            "\u001b[1m1250/1250\u001b[0m \u001b[32m━━━━━━━━━━━━━━━━━━━━\u001b[0m\u001b[37m\u001b[0m \u001b[1m7s\u001b[0m 5ms/step - accuracy: 0.5290 - loss: 1.6635 - val_accuracy: 0.3782 - val_loss: 3.1137\n",
            "Epoch 13/25\n",
            "\u001b[1m1250/1250\u001b[0m \u001b[32m━━━━━━━━━━━━━━━━━━━━\u001b[0m\u001b[37m\u001b[0m \u001b[1m6s\u001b[0m 5ms/step - accuracy: 0.5347 - loss: 1.6445 - val_accuracy: 0.4553 - val_loss: 2.4536\n",
            "Epoch 14/25\n",
            "\u001b[1m1250/1250\u001b[0m \u001b[32m━━━━━━━━━━━━━━━━━━━━\u001b[0m\u001b[37m\u001b[0m \u001b[1m7s\u001b[0m 5ms/step - accuracy: 0.5344 - loss: 1.6271 - val_accuracy: 0.4307 - val_loss: 2.5636\n",
            "Epoch 15/25\n",
            "\u001b[1m1250/1250\u001b[0m \u001b[32m━━━━━━━━━━━━━━━━━━━━\u001b[0m\u001b[37m\u001b[0m \u001b[1m10s\u001b[0m 5ms/step - accuracy: 0.5360 - loss: 1.6248 - val_accuracy: 0.4630 - val_loss: 2.2938\n",
            "Epoch 16/25\n",
            "\u001b[1m1250/1250\u001b[0m \u001b[32m━━━━━━━━━━━━━━━━━━━━\u001b[0m\u001b[37m\u001b[0m \u001b[1m6s\u001b[0m 5ms/step - accuracy: 0.5427 - loss: 1.6050 - val_accuracy: 0.4544 - val_loss: 2.3595\n",
            "Epoch 17/25\n",
            "\u001b[1m1250/1250\u001b[0m \u001b[32m━━━━━━━━━━━━━━━━━━━━\u001b[0m\u001b[37m\u001b[0m \u001b[1m10s\u001b[0m 5ms/step - accuracy: 0.5418 - loss: 1.5976 - val_accuracy: 0.4449 - val_loss: 2.4495\n",
            "Epoch 18/25\n",
            "\u001b[1m1250/1250\u001b[0m \u001b[32m━━━━━━━━━━━━━━━━━━━━\u001b[0m\u001b[37m\u001b[0m \u001b[1m11s\u001b[0m 5ms/step - accuracy: 0.5482 - loss: 1.5939 - val_accuracy: 0.4493 - val_loss: 2.3847\n",
            "Epoch 19/25\n",
            "\u001b[1m1250/1250\u001b[0m \u001b[32m━━━━━━━━━━━━━━━━━━━━\u001b[0m\u001b[37m\u001b[0m \u001b[1m7s\u001b[0m 5ms/step - accuracy: 0.5529 - loss: 1.5589 - val_accuracy: 0.4677 - val_loss: 2.2423\n",
            "Epoch 20/25\n",
            "\u001b[1m1250/1250\u001b[0m \u001b[32m━━━━━━━━━━━━━━━━━━━━\u001b[0m\u001b[37m\u001b[0m \u001b[1m6s\u001b[0m 5ms/step - accuracy: 0.5467 - loss: 1.5724 - val_accuracy: 0.4811 - val_loss: 2.1913\n",
            "Epoch 21/25\n",
            "\u001b[1m1250/1250\u001b[0m \u001b[32m━━━━━━━━━━━━━━━━━━━━\u001b[0m\u001b[37m\u001b[0m \u001b[1m7s\u001b[0m 5ms/step - accuracy: 0.5533 - loss: 1.5528 - val_accuracy: 0.4684 - val_loss: 2.3098\n",
            "Epoch 22/25\n",
            "\u001b[1m1250/1250\u001b[0m \u001b[32m━━━━━━━━━━━━━━━━━━━━\u001b[0m\u001b[37m\u001b[0m \u001b[1m6s\u001b[0m 5ms/step - accuracy: 0.5585 - loss: 1.5264 - val_accuracy: 0.4394 - val_loss: 2.5762\n",
            "Epoch 23/25\n",
            "\u001b[1m1250/1250\u001b[0m \u001b[32m━━━━━━━━━━━━━━━━━━━━\u001b[0m\u001b[37m\u001b[0m \u001b[1m11s\u001b[0m 5ms/step - accuracy: 0.5540 - loss: 1.5470 - val_accuracy: 0.4727 - val_loss: 2.2763\n",
            "Epoch 24/25\n",
            "\u001b[1m1250/1250\u001b[0m \u001b[32m━━━━━━━━━━━━━━━━━━━━\u001b[0m\u001b[37m\u001b[0m \u001b[1m7s\u001b[0m 6ms/step - accuracy: 0.5586 - loss: 1.5183 - val_accuracy: 0.4306 - val_loss: 2.5963\n",
            "Epoch 25/25\n",
            "\u001b[1m1250/1250\u001b[0m \u001b[32m━━━━━━━━━━━━━━━━━━━━\u001b[0m\u001b[37m\u001b[0m \u001b[1m6s\u001b[0m 5ms/step - accuracy: 0.5610 - loss: 1.5245 - val_accuracy: 0.4637 - val_loss: 2.2697\n"
          ]
        }
      ],
      "source": [
        "# Your Code Here\n",
        "\n",
        "# Re-train the model\n",
        "history = model.fit(\n",
        "    x_train, y_train,\n",
        "    epochs=25, batch_size=32,\n",
        "    validation_data=(x_val, y_val)\n",
        ")"
      ]
    },
    {
      "cell_type": "code",
      "source": [
        "from sklearn.metrics import classification_report\n",
        "\n",
        "# Evaluate the model on test set\n",
        "test_loss, test_acc = model.evaluate(x_test, y_test)\n",
        "print(f\"Test Accuracy: {test_acc:.4f}\")\n",
        "\n",
        "# Get predictions and report precision, recall, f1-score\n",
        "y_pred = model.predict(x_test)\n",
        "y_pred_classes = np.argmax(y_pred, axis=1)\n",
        "y_true_classes = np.argmax(y_val, axis=1)\n",
        "\n",
        "# Classification report\n",
        "report = classification_report(y_true_classes, y_pred_classes)\n",
        "print(report)"
      ],
      "metadata": {
        "colab": {
          "base_uri": "https://localhost:8080/"
        },
        "id": "ECuuoGee_gwu",
        "outputId": "b851c8de-aadd-4459-c728-4c5a00f6da9a"
      },
      "id": "ECuuoGee_gwu",
      "execution_count": 16,
      "outputs": [
        {
          "output_type": "stream",
          "name": "stdout",
          "text": [
            "\u001b[1m313/313\u001b[0m \u001b[32m━━━━━━━━━━━━━━━━━━━━\u001b[0m\u001b[37m\u001b[0m \u001b[1m1s\u001b[0m 3ms/step - accuracy: 0.4799 - loss: 2.2172\n",
            "Test Accuracy: 0.4729\n",
            "\u001b[1m313/313\u001b[0m \u001b[32m━━━━━━━━━━━━━━━━━━━━\u001b[0m\u001b[37m\u001b[0m \u001b[1m1s\u001b[0m 2ms/step\n",
            "              precision    recall  f1-score   support\n",
            "\n",
            "           0       0.00      0.00      0.00       107\n",
            "           1       0.02      0.01      0.01       107\n",
            "           2       0.00      0.00      0.00        88\n",
            "           3       0.01      0.01      0.01       103\n",
            "           4       0.01      0.02      0.01        93\n",
            "           5       0.00      0.00      0.00       105\n",
            "           6       0.06      0.04      0.05        93\n",
            "           7       0.00      0.00      0.00        96\n",
            "           8       0.01      0.01      0.01        87\n",
            "           9       0.02      0.01      0.01        88\n",
            "          10       0.03      0.05      0.04       100\n",
            "          11       0.00      0.00      0.00       100\n",
            "          12       0.00      0.00      0.00        99\n",
            "          13       0.00      0.00      0.00        86\n",
            "          14       0.00      0.00      0.00       100\n",
            "          15       0.00      0.00      0.00        87\n",
            "          16       0.02      0.01      0.01       116\n",
            "          17       0.02      0.02      0.02        91\n",
            "          18       0.02      0.02      0.02       113\n",
            "          19       0.00      0.00      0.00       104\n",
            "          20       0.01      0.01      0.01       107\n",
            "          21       0.02      0.02      0.02       113\n",
            "          22       0.01      0.01      0.01       107\n",
            "          23       0.01      0.02      0.01        99\n",
            "          24       0.00      0.00      0.00       104\n",
            "          25       0.02      0.02      0.02       106\n",
            "          26       0.04      0.04      0.04       104\n",
            "          27       0.01      0.04      0.02       105\n",
            "          28       0.00      0.00      0.00        92\n",
            "          29       0.02      0.01      0.01        99\n",
            "          30       0.02      0.02      0.02       109\n",
            "          31       0.01      0.01      0.01        96\n",
            "          32       0.01      0.01      0.01        94\n",
            "          33       0.02      0.04      0.03       104\n",
            "          34       0.01      0.01      0.01        82\n",
            "          35       0.02      0.01      0.01        98\n",
            "          36       0.00      0.00      0.00       107\n",
            "          37       0.00      0.00      0.00       100\n",
            "          38       0.01      0.01      0.01       109\n",
            "          39       0.00      0.00      0.00       103\n",
            "          40       0.00      0.00      0.00        96\n",
            "          41       0.01      0.01      0.01       104\n",
            "          42       0.02      0.03      0.02       105\n",
            "          43       0.01      0.01      0.01       110\n",
            "          44       0.03      0.02      0.02        87\n",
            "          45       0.00      0.00      0.00       106\n",
            "          46       0.01      0.01      0.01        99\n",
            "          47       0.03      0.03      0.03       103\n",
            "          48       0.01      0.01      0.01        98\n",
            "          49       0.01      0.01      0.01       104\n",
            "          50       0.02      0.02      0.02       105\n",
            "          51       0.01      0.01      0.01       102\n",
            "          52       0.02      0.02      0.02       110\n",
            "          53       0.01      0.01      0.01        95\n",
            "          54       0.00      0.00      0.00        89\n",
            "          55       0.00      0.00      0.00        94\n",
            "          56       0.01      0.01      0.01       105\n",
            "          57       0.01      0.01      0.01       107\n",
            "          58       0.01      0.01      0.01        91\n",
            "          59       0.02      0.03      0.02       106\n",
            "          60       0.01      0.01      0.01        92\n",
            "          61       0.00      0.00      0.00       114\n",
            "          62       0.03      0.02      0.02       104\n",
            "          63       0.01      0.05      0.02       103\n",
            "          64       0.00      0.00      0.00       104\n",
            "          65       0.02      0.02      0.02        99\n",
            "          66       0.02      0.02      0.02       103\n",
            "          67       0.01      0.02      0.02       101\n",
            "          68       0.01      0.01      0.01        93\n",
            "          69       0.00      0.00      0.00        94\n",
            "          70       0.02      0.03      0.02       109\n",
            "          71       0.01      0.01      0.01        95\n",
            "          72       0.01      0.02      0.01        96\n",
            "          73       0.00      0.00      0.00       105\n",
            "          74       0.02      0.03      0.02       114\n",
            "          75       0.01      0.01      0.01       101\n",
            "          76       0.01      0.01      0.01       104\n",
            "          77       0.00      0.00      0.00       103\n",
            "          78       0.02      0.02      0.02        89\n",
            "          79       0.01      0.01      0.01        97\n",
            "          80       0.00      0.00      0.00        88\n",
            "          81       0.01      0.01      0.01        86\n",
            "          82       0.01      0.01      0.01        97\n",
            "          83       0.00      0.00      0.00       110\n",
            "          84       0.00      0.00      0.00        89\n",
            "          85       0.02      0.03      0.02       109\n",
            "          86       0.02      0.01      0.01       101\n",
            "          87       0.01      0.01      0.01        99\n",
            "          88       0.00      0.00      0.00        86\n",
            "          89       0.01      0.01      0.01       101\n",
            "          90       0.02      0.02      0.02        98\n",
            "          91       0.00      0.00      0.00        88\n",
            "          92       0.03      0.02      0.02       116\n",
            "          93       0.00      0.00      0.00        98\n",
            "          94       0.03      0.03      0.03       102\n",
            "          95       0.00      0.00      0.00        90\n",
            "          96       0.02      0.03      0.02       105\n",
            "          97       0.04      0.03      0.03        95\n",
            "          98       0.09      0.03      0.05       117\n",
            "          99       0.01      0.01      0.01        88\n",
            "\n",
            "    accuracy                           0.01     10000\n",
            "   macro avg       0.01      0.01      0.01     10000\n",
            "weighted avg       0.01      0.01      0.01     10000\n",
            "\n"
          ]
        }
      ]
    },
    {
      "cell_type": "code",
      "source": [
        "plt.plot(history.history['accuracy'], label='Train Accuracy')\n",
        "plt.plot(history.history['val_accuracy'], label='Test Accuracy')\n",
        "plt.xlabel('Epochs')\n",
        "plt.ylabel('Accuracy')\n",
        "plt.legend()\n",
        "plt.show()\n"
      ],
      "metadata": {
        "colab": {
          "base_uri": "https://localhost:8080/",
          "height": 449
        },
        "id": "aGW3XEqC_RM-",
        "outputId": "35a6ec65-25a8-4a53-9da0-da73e2c426d2"
      },
      "id": "aGW3XEqC_RM-",
      "execution_count": 17,
      "outputs": [
        {
          "output_type": "display_data",
          "data": {
            "text/plain": [
              "<Figure size 640x480 with 1 Axes>"
            ],
            "image/png": "[encoded data removed]"
          },
          "metadata": {}
        }
      ]
    },
    {
      "cell_type": "markdown",
      "id": "eadfc848700215e8",
      "metadata": {
        "collapsed": false,
        "id": "eadfc848700215e8"
      },
      "source": [
        "### Task 4c: Discussion of the results\n",
        "\n",
        "- Briefly discuss the results.\n",
        "- Did the model's performance improve?\n",
        "- Why do you think this is?\n",
        "- Do you think there is room for further improvement? Why or why not?\n",
        "- What other techniques might you try in the future?\n",
        "- Your answer should be no more than 200 words.\n",
        "\n",
        "# Your answer here"
      ]
    },
    {
      "cell_type": "markdown",
      "source": [
        "The model's performance improved using the validation set, I also noticed that the model's training accuracy is increasing and in fact much more accurate than the testing accuracy.\n",
        "Making the model more robust using the Image Data Generator helped the model generalize better by flipping, rotating, and zooming to allow the model familiarize itself with different aspects of the images in the dataset.\n",
        "Yes, there is room for improvement because the model's accuracy rate is still too low and is still incorrectly identifying too many photos.\n",
        "For future tuning of the model, I would consider early stopping to prevent overfitting."
      ],
      "metadata": {
        "id": "ru5ywfe_8VCK"
      },
      "id": "ru5ywfe_8VCK"
    },
    {
      "cell_type": "markdown",
      "id": "7415f68f",
      "metadata": {
        "id": "7415f68f"
      },
      "source": [
        "## Criteria\n",
        "\n",
        "|Criteria|Complete|Incomplete|\n",
        "|----|----|----|\n",
        "|Task 1|The task has been completed successfully and there are no errors.|The task is still incomplete and there is at least one error.|\n",
        "|Task 2|The task has been completed successfully and there are no errors.|The task is still incomplete and there is at least one error.|\n",
        "|Task 3|The task has been completed successfully and there are no errors.|The task is still incomplete and there is at least one error.|\n",
        "|Task 4|The task has been completed successfully and there are no errors.|The task is still incomplete and there is at least one error.|"
      ]
    },
    {
      "cell_type": "markdown",
      "id": "ad0c10bc",
      "metadata": {
        "id": "ad0c10bc"
      },
      "source": [
        "## Submission Information\n",
        "\n",
        "🚨 **Please review our [Assignment Submission Guide](https://github.com/UofT-DSI/onboarding/blob/main/onboarding_documents/submissions.md)** 🚨 for detailed instructions on how to format, branch, and submit your work. Following these guidelines is crucial for your submissions to be evaluated correctly.\n",
        "\n",
        "### Submission Parameters:\n",
        "* Submission Due Date: `HH:MM AM/PM - DD/MM/YYYY`\n",
        "* The branch name for your repo should be: `assignment-1`\n",
        "* What to submit for this assignment:\n",
        "    * This Jupyter Notebook (assignment_1.ipynb) should be populated and should be the only change in your pull request.\n",
        "* What the pull request link should look like for this assignment: `https://github.com/<your_github_username>/deep_learning/pull/<pr_id>`\n",
        "    * Open a private window in your browser. Copy and paste the link to your pull request into the address bar. Make sure you can see your pull request properly. This helps the technical facilitator and learning support staff review your submission easily.\n",
        "\n",
        "Checklist:\n",
        "- [ ] Created a branch with the correct naming convention.\n",
        "- [ ] Ensured that the repository is public.\n",
        "- [ ] Reviewed the PR description guidelines and adhered to them.\n",
        "- [ ] Verify that the link is accessible in a private browser window.\n",
        "\n",
        "If you encounter any difficulties or have questions, please don't hesitate to reach out to our team via our Slack at `#cohort-3-help`. Our Technical Facilitators and Learning Support staff are here to help you navigate any challenges."
      ]
    }
  ],
  "metadata": {
    "kernelspec": {
      "display_name": "Python 3",
      "name": "python3"
    },
    "language_info": {
      "codemirror_mode": {
        "name": "ipython",
        "version": 3
      },
      "file_extension": ".py",
      "mimetype": "text/x-python",
      "name": "python",
      "nbconvert_exporter": "python",
      "pygments_lexer": "ipython3",
      "version": "3.12.9"
    },
    "colab": {
      "provenance": [],
      "gpuType": "T4"
    },
    "accelerator": "GPU"
  },
  "nbformat": 4,
  "nbformat_minor": 5
}